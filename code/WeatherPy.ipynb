{
 "cells": [
  {
   "cell_type": "markdown",
   "metadata": {},
   "source": [
    "# WeatherPy\n",
    "----\n",
    "\n",
    "#### Note\n",
    "* Instructions have been included for each segment. You do not have to follow them exactly, but they are included to help you think through the steps."
   ]
  },
  {
   "cell_type": "code",
   "execution_count": 1,
   "metadata": {
    "scrolled": true
   },
   "outputs": [],
   "source": [
    "# Dependencies and Setup\n",
    "import matplotlib.pyplot as plt\n",
    "import pandas as pd\n",
    "import numpy as np\n",
    "import requests\n",
    "import time\n",
    "import json\n",
    "from scipy.stats import linregress\n",
    "import scipy.stats as st\n",
    "\n",
    "\n",
    "# Import API key\n",
    "from api_keys import weather_api_key\n",
    "\n",
    "# Incorporated citipy to determine city based on latitude and longitude\n",
    "from citipy import citipy\n",
    "\n",
    "# Output File (CSV)\n",
    "output_data_file = \"output_data/cities.csv\"\n",
    "\n",
    "# Range of latitudes and longitudes\n",
    "lat_range = (-90, 90)\n",
    "lng_range = (-180, 180)"
   ]
  },
  {
   "cell_type": "markdown",
   "metadata": {},
   "source": [
    "## Generate Cities List"
   ]
  },
  {
   "cell_type": "code",
   "execution_count": 2,
   "metadata": {},
   "outputs": [
    {
     "data": {
      "text/plain": [
       "611"
      ]
     },
     "execution_count": 2,
     "metadata": {},
     "output_type": "execute_result"
    }
   ],
   "source": [
    "# List for holding lat_lngs and cities\n",
    "lat_lngs = []\n",
    "cities = []\n",
    "\n",
    "# Create a set of random lat and lng combinations\n",
    "lats = np.random.uniform(lat_range[0], lat_range[1], size=1500)\n",
    "lngs = np.random.uniform(lng_range[0], lng_range[1], size=1500)\n",
    "lat_lngs = zip(lats, lngs)\n",
    "\n",
    "# Identify nearest city for each lat, lng combination\n",
    "for lat_lng in lat_lngs:\n",
    "    city = citipy.nearest_city(lat_lng[0], lat_lng[1]).city_name\n",
    "    \n",
    "    # If the city is unique, then add it to a our cities list\n",
    "    if city not in cities:\n",
    "        cities.append(city)\n",
    "\n",
    "# Print the city count to confirm sufficient count\n",
    "len(cities)"
   ]
  },
  {
   "cell_type": "markdown",
   "metadata": {},
   "source": [
    "### Perform API Calls\n",
    "* Perform a weather check on each city using a series of successive API calls.\n",
    "* Include a print log of each city as it'sbeing processed (with the city number and city name).\n"
   ]
  },
  {
   "cell_type": "code",
   "execution_count": 3,
   "metadata": {},
   "outputs": [],
   "source": [
    "#Building query url using base url and parameters\n",
    "\n",
    "base_url = \"http://api.openweathermap.org/data/2.5/weather?\"\n",
    "units = \"imperial\"\n",
    "query_url = f\"{base_url}appid={weather_api_key}&units={units}&q=\"\n",
    "#query_url\n"
   ]
  },
  {
   "cell_type": "code",
   "execution_count": 4,
   "metadata": {},
   "outputs": [],
   "source": [
    "# Create empty lists to store the data for each citi.\n",
    "\n",
    "record_counter=0\n",
    "set_counter=1\n",
    "city_id_list = []\n",
    "city_name_list = []\n",
    "country_list = []\n",
    "lon_list = []\n",
    "lat_list = []\n",
    "temp_list = []\n",
    "max_temp_list = []\n",
    "min_temp_list = []\n",
    "humidity_list = []\n",
    "clouds_list = []\n",
    "wind_speed_list = []\n",
    "date_list = []"
   ]
  },
  {
   "cell_type": "code",
   "execution_count": 5,
   "metadata": {},
   "outputs": [
    {
     "name": "stdout",
     "output_type": "stream",
     "text": [
      "Beginning Data Retrieval \n",
      "-----------------------------\n",
      "Processing Record 1 of Set 1 : broome\n",
      "Processing Record 2 of Set 1 : portland\n",
      "Processing Record 3 of Set 1 : georgetown\n",
      "Processing Record 4 of Set 1 : cape town\n",
      "Processing Record 5 of Set 1 : arraial do cabo\n",
      "Processing Record 6 of Set 1 : mataura\n",
      "Processing Record 7 of Set 1 : saint-pierre\n",
      "Processing Record 8 of Set 1 : east london\n",
      "Processing Record 9 of Set 1 : barre\n",
      "Processing Record 10 of Set 1 : saint-louis\n",
      "Processing Record 11 of Set 1 : mandalgovi\n",
      "Processing Record 12 of Set 1 : provideniya\n",
      "Processing Record 13 of Set 1 : qaanaaq\n",
      "Processing Record 14 of Set 1 : albany\n",
      "Processing Record 15 of Set 1 : sens\n",
      "Processing Record 16 of Set 1 : sault sainte marie\n",
      "Processing Record 17 of Set 1 : heihe\n",
      "Processing Record 18 of Set 1 : atuona\n",
      "Processing Record 19 of Set 1 : klamath falls\n",
      "Processing Record 20 of Set 1 : bermejo\n",
      "Processing Record 21 of Set 1 : priargunsk\n",
      "Processing Record 22 of Set 1 : hermanus\n",
      "Processing Record 23 of Set 1 : hasaki\n",
      "Processing Record 24 of Set 1 : rikitea\n",
      "Processing Record 25 of Set 1 : kaitangata\n",
      "Processing Record 26 of Set 1 : nantucket\n",
      "Processing Record 27 of Set 1 : nanortalik\n",
      "Processing Record 28 of Set 1 : hueytown\n",
      "Processing Record 29 of Set 1 : kahului\n",
      "Processing Record 30 of Set 1 : shitkino\n",
      "mys shmidta City not found in openweathermap. Skipping...\n",
      "Processing Record 31 of Set 1 : dunedin\n",
      "Processing Record 32 of Set 1 : vardo\n",
      "Processing Record 33 of Set 1 : burnie\n",
      "Processing Record 34 of Set 1 : gawler\n",
      "Processing Record 35 of Set 1 : new norfolk\n",
      "Processing Record 36 of Set 1 : indramayu\n",
      "Processing Record 37 of Set 1 : yellowknife\n",
      "Processing Record 38 of Set 1 : pevek\n",
      "taolanaro City not found in openweathermap. Skipping...\n",
      "Processing Record 39 of Set 1 : san patricio\n",
      "Processing Record 40 of Set 1 : talnakh\n",
      "paradwip City not found in openweathermap. Skipping...\n",
      "chikoy City not found in openweathermap. Skipping...\n",
      "Processing Record 41 of Set 1 : kapaa\n",
      "Processing Record 42 of Set 1 : mahebourg\n",
      "Processing Record 43 of Set 1 : mogok\n",
      "Processing Record 44 of Set 1 : bayshore gardens\n",
      "sentyabrskiy City not found in openweathermap. Skipping...\n",
      "Processing Record 45 of Set 1 : rumonge\n",
      "Processing Record 46 of Set 1 : barrow\n",
      "Processing Record 47 of Set 1 : svetlogorsk\n",
      "Processing Record 48 of Set 1 : victoria\n",
      "Processing Record 49 of Set 1 : atasu\n",
      "Processing Record 50 of Set 1 : chuy\n",
      "Processing Record 0 of Set 2 : nome\n",
      "Processing Record 1 of Set 2 : nicoya\n",
      "Processing Record 2 of Set 2 : longyearbyen\n",
      "Processing Record 3 of Set 2 : tiksi\n",
      "Processing Record 4 of Set 2 : vaini\n",
      "Processing Record 5 of Set 2 : pisco\n",
      "Processing Record 6 of Set 2 : kuldiga\n",
      "Processing Record 7 of Set 2 : pitimbu\n",
      "Processing Record 8 of Set 2 : tuktoyaktuk\n",
      "Processing Record 9 of Set 2 : seymchan\n",
      "Processing Record 10 of Set 2 : flin flon\n",
      "Processing Record 11 of Set 2 : vanimo\n",
      "Processing Record 12 of Set 2 : fortuna\n",
      "Processing Record 13 of Set 2 : sibolga\n",
      "Processing Record 14 of Set 2 : butaritari\n",
      "Processing Record 15 of Set 2 : avera\n",
      "Processing Record 16 of Set 2 : ushuaia\n",
      "Processing Record 17 of Set 2 : leningradskiy\n",
      "Processing Record 18 of Set 2 : tigil\n",
      "Processing Record 19 of Set 2 : beyneu\n",
      "Processing Record 20 of Set 2 : clyde river\n",
      "Processing Record 21 of Set 2 : oranjemund\n",
      "belushya guba City not found in openweathermap. Skipping...\n",
      "Processing Record 22 of Set 2 : andenes\n",
      "Processing Record 23 of Set 2 : kavaratti\n",
      "Processing Record 24 of Set 2 : beringovskiy\n",
      "Processing Record 25 of Set 2 : korla\n",
      "Processing Record 26 of Set 2 : qandala\n",
      "Processing Record 27 of Set 2 : bluff\n",
      "Processing Record 28 of Set 2 : bredasdorp\n",
      "Processing Record 29 of Set 2 : jamestown\n",
      "Processing Record 30 of Set 2 : tignoan\n",
      "Processing Record 31 of Set 2 : camocim\n",
      "Processing Record 32 of Set 2 : jardim\n",
      "Processing Record 33 of Set 2 : nouakchott\n",
      "tsihombe City not found in openweathermap. Skipping...\n",
      "Processing Record 34 of Set 2 : novopokrovka\n",
      "Processing Record 35 of Set 2 : santa luzia\n",
      "Processing Record 36 of Set 2 : severo-kurilsk\n",
      "Processing Record 37 of Set 2 : volterra\n",
      "Processing Record 38 of Set 2 : golden\n",
      "Processing Record 39 of Set 2 : santa catalina\n",
      "barentsburg City not found in openweathermap. Skipping...\n",
      "Processing Record 40 of Set 2 : samarai\n",
      "Processing Record 41 of Set 2 : la romana\n",
      "kamenskoye City not found in openweathermap. Skipping...\n",
      "Processing Record 42 of Set 2 : carnarvon\n",
      "Processing Record 43 of Set 2 : berlevag\n",
      "Processing Record 44 of Set 2 : gamba\n",
      "Processing Record 45 of Set 2 : inirida\n",
      "Processing Record 46 of Set 2 : punta arenas\n",
      "Processing Record 47 of Set 2 : puerto ayora\n",
      "saleaula City not found in openweathermap. Skipping...\n",
      "Processing Record 48 of Set 2 : castro\n",
      "Processing Record 49 of Set 2 : geraldton\n",
      "Processing Record 50 of Set 2 : hilo\n",
      "Processing Record 0 of Set 3 : ballina\n",
      "Processing Record 1 of Set 3 : avarua\n",
      "Processing Record 2 of Set 3 : kungurtug\n",
      "marcona City not found in openweathermap. Skipping...\n",
      "Processing Record 3 of Set 3 : esperance\n",
      "Processing Record 4 of Set 3 : black river\n",
      "Processing Record 5 of Set 3 : birjand\n",
      "Processing Record 6 of Set 3 : lahij\n",
      "Processing Record 7 of Set 3 : ponta do sol\n",
      "Processing Record 8 of Set 3 : guerrero negro\n",
      "Processing Record 9 of Set 3 : tasiilaq\n",
      "Processing Record 10 of Set 3 : isangel\n",
      "nam tha City not found in openweathermap. Skipping...\n",
      "Processing Record 11 of Set 3 : busselton\n",
      "Processing Record 12 of Set 3 : takoradi\n",
      "Processing Record 13 of Set 3 : tyumentsevo\n",
      "Processing Record 14 of Set 3 : zaraza\n",
      "Processing Record 15 of Set 3 : sfantu gheorghe\n",
      "Processing Record 16 of Set 3 : necochea\n",
      "Processing Record 17 of Set 3 : kanye\n",
      "Processing Record 18 of Set 3 : roebourne\n",
      "Processing Record 19 of Set 3 : zhezkazgan\n",
      "Processing Record 20 of Set 3 : vostok\n",
      "Processing Record 21 of Set 3 : port alfred\n",
      "Processing Record 22 of Set 3 : hobart\n",
      "Processing Record 23 of Set 3 : merauke\n",
      "illoqqortoormiut City not found in openweathermap. Skipping...\n",
      "Processing Record 24 of Set 3 : athabasca\n",
      "Processing Record 25 of Set 3 : sao filipe\n",
      "Processing Record 26 of Set 3 : rafai\n",
      "Processing Record 27 of Set 3 : waycross\n",
      "Processing Record 28 of Set 3 : cabo san lucas\n",
      "Processing Record 29 of Set 3 : strezhevoy\n",
      "Processing Record 30 of Set 3 : maragogi\n",
      "Processing Record 31 of Set 3 : tura\n",
      "Processing Record 32 of Set 3 : poum\n",
      "Processing Record 33 of Set 3 : mar del plata\n",
      "Processing Record 34 of Set 3 : yerbogachen\n",
      "Processing Record 35 of Set 3 : upernavik\n",
      "Processing Record 36 of Set 3 : paka\n",
      "Processing Record 37 of Set 3 : praya\n",
      "Processing Record 38 of Set 3 : fairmont\n",
      "Processing Record 39 of Set 3 : kavieng\n",
      "Processing Record 40 of Set 3 : araguari\n",
      "Processing Record 41 of Set 3 : mount vernon\n",
      "longlac City not found in openweathermap. Skipping...\n",
      "Processing Record 42 of Set 3 : quelimane\n",
      "Processing Record 43 of Set 3 : zyryanka\n",
      "Processing Record 44 of Set 3 : sitka\n",
      "Processing Record 45 of Set 3 : fairbanks\n",
      "kuhestan City not found in openweathermap. Skipping...\n",
      "Processing Record 46 of Set 3 : neryungri\n",
      "louisbourg City not found in openweathermap. Skipping...\n",
      "Processing Record 47 of Set 3 : luderitz\n",
      "Processing Record 48 of Set 3 : los llanos de aridane\n",
      "Processing Record 49 of Set 3 : ancud\n",
      "Processing Record 50 of Set 3 : san cristobal\n",
      "Processing Record 0 of Set 4 : curup\n",
      "Processing Record 1 of Set 4 : zhenhai\n",
      "Processing Record 2 of Set 4 : hithadhoo\n",
      "Processing Record 3 of Set 4 : sinnamary\n",
      "Processing Record 4 of Set 4 : kouango\n",
      "Processing Record 5 of Set 4 : lebu\n",
      "Processing Record 6 of Set 4 : batagay-alyta\n",
      "Processing Record 7 of Set 4 : de-kastri\n",
      "Processing Record 8 of Set 4 : faanui\n",
      "Processing Record 9 of Set 4 : sibu\n",
      "Processing Record 10 of Set 4 : salta\n",
      "Processing Record 11 of Set 4 : sao paulo de olivenca\n",
      "Processing Record 12 of Set 4 : mbandaka\n",
      "Processing Record 13 of Set 4 : saint-philippe\n",
      "Processing Record 14 of Set 4 : mitsamiouli\n",
      "Processing Record 15 of Set 4 : corner brook\n",
      "Processing Record 16 of Set 4 : korem\n",
      "Processing Record 17 of Set 4 : hofn\n",
      "kazalinsk City not found in openweathermap. Skipping...\n",
      "Processing Record 18 of Set 4 : santa maria\n",
      "Processing Record 19 of Set 4 : constitucion\n",
      "Processing Record 20 of Set 4 : cayenne\n",
      "Processing Record 21 of Set 4 : kruisfontein\n",
      "Processing Record 22 of Set 4 : mayo\n"
     ]
    },
    {
     "name": "stdout",
     "output_type": "stream",
     "text": [
      "Processing Record 23 of Set 4 : sayyan\n",
      "Processing Record 24 of Set 4 : besikduzu\n",
      "Processing Record 25 of Set 4 : vysokogornyy\n",
      "Processing Record 26 of Set 4 : ciudad bolivar\n",
      "palabuhanratu City not found in openweathermap. Skipping...\n",
      "Processing Record 27 of Set 4 : hualmay\n",
      "Processing Record 28 of Set 4 : boca do acre\n",
      "Processing Record 29 of Set 4 : aklavik\n",
      "Processing Record 30 of Set 4 : srednekolymsk\n",
      "abu jubayhah City not found in openweathermap. Skipping...\n",
      "Processing Record 31 of Set 4 : freeport\n",
      "Processing Record 32 of Set 4 : zalantun\n",
      "Processing Record 33 of Set 4 : bardiyah\n",
      "saryshagan City not found in openweathermap. Skipping...\n",
      "Processing Record 34 of Set 4 : saskylakh\n",
      "ye City not found in openweathermap. Skipping...\n",
      "Processing Record 35 of Set 4 : torbay\n",
      "Processing Record 36 of Set 4 : leninskoye\n",
      "Processing Record 37 of Set 4 : jackson\n",
      "Processing Record 38 of Set 4 : bengkulu\n",
      "Processing Record 39 of Set 4 : yarada\n",
      "Processing Record 40 of Set 4 : moose factory\n",
      "Processing Record 41 of Set 4 : khatanga\n",
      "Processing Record 42 of Set 4 : broken hill\n",
      "Processing Record 43 of Set 4 : paita\n",
      "Processing Record 44 of Set 4 : deputatskiy\n",
      "Processing Record 45 of Set 4 : hamilton\n",
      "Processing Record 46 of Set 4 : bambous virieux\n",
      "Processing Record 47 of Set 4 : nixa\n",
      "Processing Record 48 of Set 4 : jucuaran\n",
      "Processing Record 49 of Set 4 : dikson\n",
      "Processing Record 50 of Set 4 : tilichiki\n",
      "Processing Record 0 of Set 5 : panjab\n",
      "Processing Record 1 of Set 5 : lixourion\n",
      "Processing Record 2 of Set 5 : honggang\n",
      "Processing Record 3 of Set 5 : dingle\n",
      "Processing Record 4 of Set 5 : grand gaube\n",
      "Processing Record 5 of Set 5 : yarim\n",
      "Processing Record 6 of Set 5 : klaksvik\n",
      "Processing Record 7 of Set 5 : lima duarte\n",
      "Processing Record 8 of Set 5 : cidreira\n",
      "amderma City not found in openweathermap. Skipping...\n",
      "Processing Record 9 of Set 5 : bud\n",
      "Processing Record 10 of Set 5 : beckley\n",
      "Processing Record 11 of Set 5 : saint-denis\n",
      "Processing Record 12 of Set 5 : flinders\n",
      "Processing Record 13 of Set 5 : barcelos\n",
      "Processing Record 14 of Set 5 : mwense\n",
      "Processing Record 15 of Set 5 : wilmington\n",
      "Processing Record 16 of Set 5 : ilo\n",
      "Processing Record 17 of Set 5 : roma\n",
      "Processing Record 18 of Set 5 : torbat-e jam\n",
      "Processing Record 19 of Set 5 : jasper\n",
      "Processing Record 20 of Set 5 : asau\n",
      "Processing Record 21 of Set 5 : ca mau\n",
      "Processing Record 22 of Set 5 : zhaoqing\n",
      "Processing Record 23 of Set 5 : yulara\n",
      "Processing Record 24 of Set 5 : hambantota\n",
      "Processing Record 25 of Set 5 : goure\n",
      "Processing Record 26 of Set 5 : sept-iles\n",
      "Processing Record 27 of Set 5 : omalur\n",
      "Processing Record 28 of Set 5 : codrington\n",
      "Processing Record 29 of Set 5 : ferme-neuve\n",
      "Processing Record 30 of Set 5 : boueni\n",
      "Processing Record 31 of Set 5 : taguatinga\n",
      "Processing Record 32 of Set 5 : yavaros\n",
      "Processing Record 33 of Set 5 : taltal\n",
      "Processing Record 34 of Set 5 : salalah\n",
      "Processing Record 35 of Set 5 : bethel\n",
      "Processing Record 36 of Set 5 : bata\n",
      "Processing Record 37 of Set 5 : nikolskoye\n",
      "Processing Record 38 of Set 5 : biltine\n",
      "Processing Record 39 of Set 5 : remuna\n",
      "Processing Record 40 of Set 5 : port elizabeth\n",
      "dzhusaly City not found in openweathermap. Skipping...\n",
      "Processing Record 41 of Set 5 : vila franca do campo\n",
      "Processing Record 42 of Set 5 : gravdal\n",
      "Processing Record 43 of Set 5 : grand forks\n",
      "Processing Record 44 of Set 5 : kuji\n",
      "Processing Record 45 of Set 5 : te anau\n",
      "Processing Record 46 of Set 5 : nizhniy baskunchak\n",
      "Processing Record 47 of Set 5 : saryg-sep\n",
      "Processing Record 48 of Set 5 : sobolevo\n",
      "Processing Record 49 of Set 5 : bathsheba\n",
      "Processing Record 50 of Set 5 : tomaszow lubelski\n",
      "Processing Record 0 of Set 6 : tautira\n",
      "Processing Record 1 of Set 6 : alugan\n",
      "Processing Record 2 of Set 6 : shaowu\n",
      "Processing Record 3 of Set 6 : sazonovo\n",
      "Processing Record 4 of Set 6 : bondo\n",
      "Processing Record 5 of Set 6 : invermere\n",
      "Processing Record 6 of Set 6 : chistogorskiy\n",
      "Processing Record 7 of Set 6 : port lincoln\n",
      "bolungarvik City not found in openweathermap. Skipping...\n",
      "Processing Record 8 of Set 6 : jiaojiang\n",
      "Processing Record 9 of Set 6 : airai\n",
      "Processing Record 10 of Set 6 : mastic beach\n",
      "kusk City not found in openweathermap. Skipping...\n",
      "Processing Record 11 of Set 6 : puerto del rosario\n",
      "Processing Record 12 of Set 6 : vao\n",
      "Processing Record 13 of Set 6 : challapata\n",
      "nizhneyansk City not found in openweathermap. Skipping...\n",
      "vaitupu City not found in openweathermap. Skipping...\n",
      "Processing Record 14 of Set 6 : anapskaya\n",
      "Processing Record 15 of Set 6 : tabou\n",
      "Processing Record 16 of Set 6 : sarangani\n",
      "gorno-chuyskiy City not found in openweathermap. Skipping...\n",
      "Processing Record 17 of Set 6 : port-gentil\n",
      "Processing Record 18 of Set 6 : esso\n",
      "Processing Record 19 of Set 6 : bulgan\n",
      "Processing Record 20 of Set 6 : saint-joseph\n",
      "Processing Record 21 of Set 6 : north las vegas\n",
      "Processing Record 22 of Set 6 : san quintin\n",
      "Processing Record 23 of Set 6 : guarapari\n",
      "Processing Record 24 of Set 6 : lloydminster\n",
      "Processing Record 25 of Set 6 : ponta delgada\n",
      "Processing Record 26 of Set 6 : ahuimanu\n",
      "Processing Record 27 of Set 6 : rodrigues alves\n",
      "Processing Record 28 of Set 6 : xai-xai\n",
      "Processing Record 29 of Set 6 : pangnirtung\n",
      "Processing Record 30 of Set 6 : houston\n",
      "Processing Record 31 of Set 6 : port hardy\n",
      "Processing Record 32 of Set 6 : lata\n",
      "Processing Record 33 of Set 6 : terney\n",
      "Processing Record 34 of Set 6 : chokurdakh\n",
      "Processing Record 35 of Set 6 : ribeira grande\n",
      "Processing Record 36 of Set 6 : kawalu\n",
      "Processing Record 37 of Set 6 : wanaka\n",
      "Processing Record 38 of Set 6 : mangaldai\n",
      "Processing Record 39 of Set 6 : banda aceh\n",
      "Processing Record 40 of Set 6 : belaya gora\n",
      "Processing Record 41 of Set 6 : aqtobe\n",
      "Processing Record 42 of Set 6 : makakilo city\n",
      "Processing Record 43 of Set 6 : goderich\n",
      "Processing Record 44 of Set 6 : inongo\n",
      "Processing Record 45 of Set 6 : maku\n",
      "Processing Record 46 of Set 6 : aykhal\n",
      "Processing Record 47 of Set 6 : keflavik\n",
      "Processing Record 48 of Set 6 : umm kaddadah\n",
      "Processing Record 49 of Set 6 : fort nelson\n",
      "Processing Record 50 of Set 6 : davila\n",
      "Processing Record 0 of Set 7 : bojnurd\n",
      "Processing Record 1 of Set 7 : waitati\n",
      "Processing Record 2 of Set 7 : miyang\n",
      "Processing Record 3 of Set 7 : halifax\n",
      "Processing Record 4 of Set 7 : thompson\n",
      "Processing Record 5 of Set 7 : vidim\n",
      "Processing Record 6 of Set 7 : port hedland\n",
      "Processing Record 7 of Set 7 : doha\n",
      "Processing Record 8 of Set 7 : nortelandia\n",
      "karamay City not found in openweathermap. Skipping...\n",
      "Processing Record 9 of Set 7 : talaya\n",
      "Processing Record 10 of Set 7 : beroroha\n",
      "Processing Record 11 of Set 7 : casma\n",
      "Processing Record 12 of Set 7 : dali\n",
      "Processing Record 13 of Set 7 : kulhudhuffushi\n",
      "Processing Record 14 of Set 7 : norsup\n",
      "Processing Record 15 of Set 7 : souillac\n",
      "Processing Record 16 of Set 7 : saint george\n",
      "Processing Record 17 of Set 7 : praxedis guerrero\n",
      "Processing Record 18 of Set 7 : cuamba\n",
      "Processing Record 19 of Set 7 : namibe\n",
      "Processing Record 20 of Set 7 : adrar\n",
      "Processing Record 21 of Set 7 : nioro\n",
      "Processing Record 22 of Set 7 : alice springs\n",
      "Processing Record 23 of Set 7 : kodiak\n",
      "Processing Record 24 of Set 7 : kandrian\n",
      "Processing Record 25 of Set 7 : rafaela\n",
      "Processing Record 26 of Set 7 : forbes\n",
      "Processing Record 27 of Set 7 : vila velha\n",
      "Processing Record 28 of Set 7 : imeni poliny osipenko\n",
      "Processing Record 29 of Set 7 : pombas\n",
      "Processing Record 30 of Set 7 : lipari\n",
      "Processing Record 31 of Set 7 : la serena\n",
      "Processing Record 32 of Set 7 : kazerun\n",
      "Processing Record 33 of Set 7 : tessalit\n",
      "Processing Record 34 of Set 7 : margate\n",
      "Processing Record 35 of Set 7 : cabra\n",
      "lolua City not found in openweathermap. Skipping...\n",
      "podbelsk City not found in openweathermap. Skipping...\n",
      "Processing Record 36 of Set 7 : dunda\n",
      "Processing Record 37 of Set 7 : skibotn\n",
      "Processing Record 38 of Set 7 : kimbe\n",
      "Processing Record 39 of Set 7 : port macquarie\n",
      "Processing Record 40 of Set 7 : terrace\n",
      "Processing Record 41 of Set 7 : muzhi\n",
      "utiroa City not found in openweathermap. Skipping...\n",
      "Processing Record 42 of Set 7 : kuala kangsar\n",
      "Processing Record 43 of Set 7 : valparaiso\n",
      "Processing Record 44 of Set 7 : oksfjord\n",
      "Processing Record 45 of Set 7 : vila do maio\n",
      "Processing Record 46 of Set 7 : touros\n",
      "Processing Record 47 of Set 7 : ilulissat\n",
      "Processing Record 48 of Set 7 : tommot\n"
     ]
    },
    {
     "name": "stdout",
     "output_type": "stream",
     "text": [
      "Processing Record 49 of Set 7 : ust-maya\n",
      "Processing Record 50 of Set 7 : mount gambier\n",
      "Processing Record 0 of Set 8 : marzuq\n",
      "Processing Record 1 of Set 8 : yatou\n",
      "Processing Record 2 of Set 8 : otukpo\n",
      "Processing Record 3 of Set 8 : grindavik\n",
      "Processing Record 4 of Set 8 : birur\n",
      "Processing Record 5 of Set 8 : zakamensk\n",
      "Processing Record 6 of Set 8 : gainesville\n",
      "Processing Record 7 of Set 8 : rosetta\n",
      "Processing Record 8 of Set 8 : maraa\n",
      "Processing Record 9 of Set 8 : ornskoldsvik\n",
      "azimur City not found in openweathermap. Skipping...\n",
      "Processing Record 10 of Set 8 : piranhas\n",
      "Processing Record 11 of Set 8 : semey\n",
      "Processing Record 12 of Set 8 : pangoa\n",
      "Processing Record 13 of Set 8 : sovetskiy\n",
      "samusu City not found in openweathermap. Skipping...\n",
      "Processing Record 14 of Set 8 : miles city\n",
      "Processing Record 15 of Set 8 : nemuro\n",
      "haibowan City not found in openweathermap. Skipping...\n",
      "Processing Record 16 of Set 8 : mao\n",
      "Processing Record 17 of Set 8 : charlestown\n",
      "Processing Record 18 of Set 8 : atambua\n",
      "Processing Record 19 of Set 8 : san carlos de bariloche\n",
      "Processing Record 20 of Set 8 : naranjito\n",
      "Processing Record 21 of Set 8 : abonnema\n",
      "Processing Record 22 of Set 8 : jutai\n",
      "Processing Record 23 of Set 8 : taylor\n",
      "Processing Record 24 of Set 8 : bonavista\n",
      "Processing Record 25 of Set 8 : namatanai\n",
      "zhanatas City not found in openweathermap. Skipping...\n",
      "Processing Record 26 of Set 8 : paamiut\n",
      "Processing Record 27 of Set 8 : gao\n",
      "Processing Record 28 of Set 8 : dakar\n",
      "Processing Record 29 of Set 8 : wanning\n",
      "Processing Record 30 of Set 8 : ayan\n",
      "Processing Record 31 of Set 8 : sulphur\n",
      "rawannawi City not found in openweathermap. Skipping...\n",
      "Processing Record 32 of Set 8 : nushki\n",
      "Processing Record 33 of Set 8 : zeya\n",
      "tabiauea City not found in openweathermap. Skipping...\n",
      "Processing Record 34 of Set 8 : omsukchan\n",
      "Processing Record 35 of Set 8 : goma\n",
      "Processing Record 36 of Set 8 : bonnyville\n",
      "Processing Record 37 of Set 8 : baruun-urt\n",
      "Processing Record 38 of Set 8 : siderno\n",
      "Processing Record 39 of Set 8 : riviere-au-renard\n",
      "Processing Record 40 of Set 8 : olavarria\n",
      "Processing Record 41 of Set 8 : padang\n",
      "Processing Record 42 of Set 8 : waipawa\n",
      "Processing Record 43 of Set 8 : sudzha\n",
      "Processing Record 44 of Set 8 : aripuana\n",
      "Processing Record 45 of Set 8 : sola\n",
      "Processing Record 46 of Set 8 : hovd\n",
      "Processing Record 47 of Set 8 : muros\n",
      "Processing Record 48 of Set 8 : mahajanga\n",
      "Processing Record 49 of Set 8 : vila\n",
      "Processing Record 50 of Set 8 : krasnozatonskiy\n",
      "Processing Record 0 of Set 9 : lagoa\n",
      "Processing Record 1 of Set 9 : panukulan\n",
      "Processing Record 2 of Set 9 : caravelas\n",
      "Processing Record 3 of Set 9 : kozlovka\n",
      "Processing Record 4 of Set 9 : lulea\n",
      "Processing Record 5 of Set 9 : ambunti\n",
      "Processing Record 6 of Set 9 : coihaique\n",
      "Processing Record 7 of Set 9 : ambovombe\n",
      "Processing Record 8 of Set 9 : bubaque\n",
      "Processing Record 9 of Set 9 : kyra\n",
      "Processing Record 10 of Set 9 : bela vista\n",
      "Processing Record 11 of Set 9 : hervey bay\n",
      "Processing Record 12 of Set 9 : rawson\n",
      "Processing Record 13 of Set 9 : yuzhnouralsk\n",
      "Processing Record 14 of Set 9 : urumqi\n",
      "labutta City not found in openweathermap. Skipping...\n",
      "Processing Record 15 of Set 9 : fare\n",
      "Processing Record 16 of Set 9 : yichang\n",
      "Processing Record 17 of Set 9 : srednebelaya\n",
      "Processing Record 18 of Set 9 : durusu\n",
      "jiroft City not found in openweathermap. Skipping...\n",
      "Processing Record 19 of Set 9 : mala\n",
      "Processing Record 20 of Set 9 : gua musang\n",
      "Processing Record 21 of Set 9 : kilindoni\n",
      "Processing Record 22 of Set 9 : boyolangu\n",
      "Processing Record 23 of Set 9 : hastings\n",
      "Processing Record 24 of Set 9 : irtyshskiy\n",
      "Processing Record 25 of Set 9 : anadyr\n",
      "Processing Record 26 of Set 9 : kysyl-syr\n",
      "Processing Record 27 of Set 9 : ambilobe\n",
      "Processing Record 28 of Set 9 : houma\n",
      "Processing Record 29 of Set 9 : manyana\n",
      "Processing Record 30 of Set 9 : huoqiu\n",
      "Processing Record 31 of Set 9 : mogadishu\n",
      "Processing Record 32 of Set 9 : kropotkin\n",
      "grand river south east City not found in openweathermap. Skipping...\n",
      "solovetskiy City not found in openweathermap. Skipping...\n",
      "Processing Record 33 of Set 9 : rudnichnyy\n",
      "Processing Record 34 of Set 9 : nizhneangarsk\n",
      "Processing Record 35 of Set 9 : oriximina\n",
      "Processing Record 36 of Set 9 : norman wells\n",
      "Processing Record 37 of Set 9 : qasigiannguit\n",
      "Processing Record 38 of Set 9 : kentau\n",
      "Processing Record 39 of Set 9 : henties bay\n",
      "Processing Record 40 of Set 9 : las palmas\n",
      "Processing Record 41 of Set 9 : chik\n",
      "Processing Record 42 of Set 9 : central point\n",
      "Processing Record 43 of Set 9 : port blair\n",
      "Processing Record 44 of Set 9 : zheleznodorozhnyy\n",
      "Processing Record 45 of Set 9 : severo-yeniseyskiy\n",
      "Processing Record 46 of Set 9 : faya\n",
      "Processing Record 47 of Set 9 : bafq\n",
      "Processing Record 48 of Set 9 : rabaul\n",
      "Processing Record 49 of Set 9 : sakleshpur\n",
      "Processing Record 50 of Set 9 : sakti\n",
      "Processing Record 0 of Set 10 : prince rupert\n",
      "Processing Record 1 of Set 10 : maniitsoq\n",
      "Processing Record 2 of Set 10 : kintampo\n",
      "Processing Record 3 of Set 10 : lazaro cardenas\n",
      "Processing Record 4 of Set 10 : lumberton\n",
      "Processing Record 5 of Set 10 : daru\n",
      "Processing Record 6 of Set 10 : atar\n",
      "Processing Record 7 of Set 10 : vytegra\n",
      "Processing Record 8 of Set 10 : ostersund\n",
      "Processing Record 9 of Set 10 : narsaq\n",
      "Processing Record 10 of Set 10 : independence\n",
      "Processing Record 11 of Set 10 : bagotville\n",
      "Processing Record 12 of Set 10 : vestmanna\n",
      "Processing Record 13 of Set 10 : pangai\n",
      "Processing Record 14 of Set 10 : bandarbeyla\n",
      "Processing Record 15 of Set 10 : praia da vitoria\n",
      "Processing Record 16 of Set 10 : mahibadhoo\n",
      "Processing Record 17 of Set 10 : tazovskiy\n",
      "ust-kamchatsk City not found in openweathermap. Skipping...\n",
      "Processing Record 18 of Set 10 : sioux lookout\n",
      "Processing Record 19 of Set 10 : azul\n",
      "Processing Record 20 of Set 10 : marawi\n",
      "Processing Record 21 of Set 10 : pathein\n",
      "Processing Record 22 of Set 10 : pemangkat\n",
      "Processing Record 23 of Set 10 : diphu\n",
      "Processing Record 24 of Set 10 : vitoria do mearim\n",
      "Processing Record 25 of Set 10 : yumen\n",
      "Processing Record 26 of Set 10 : ewa beach\n",
      "Processing Record 27 of Set 10 : kavali\n",
      "Processing Record 28 of Set 10 : shingu\n",
      "Processing Record 29 of Set 10 : cabedelo\n",
      "Processing Record 30 of Set 10 : ljungby\n",
      "Processing Record 31 of Set 10 : lorengau\n",
      "Processing Record 32 of Set 10 : hope\n",
      "Processing Record 33 of Set 10 : leh\n",
      "Processing Record 34 of Set 10 : tuatapere\n",
      "Processing Record 35 of Set 10 : nakamura\n",
      "Processing Record 36 of Set 10 : sangar\n",
      "Processing Record 37 of Set 10 : mahuva\n",
      "Processing Record 38 of Set 10 : saldanha\n",
      "Processing Record 39 of Set 10 : ambanja\n",
      "Processing Record 40 of Set 10 : okhotsk\n",
      "Processing Record 41 of Set 10 : biloela\n",
      "Processing Record 42 of Set 10 : gold coast\n",
      "Processing Record 43 of Set 10 : dalvik\n",
      "Processing Record 44 of Set 10 : menongue\n",
      "Processing Record 45 of Set 10 : kars\n",
      "umm durman City not found in openweathermap. Skipping...\n",
      "Processing Record 46 of Set 10 : mercedes\n",
      "attawapiskat City not found in openweathermap. Skipping...\n",
      "Processing Record 47 of Set 10 : tooele\n",
      "Processing Record 48 of Set 10 : verkhnyaya inta\n",
      "Processing Record 49 of Set 10 : rosarito\n",
      "Processing Record 50 of Set 10 : riyadh\n",
      "Processing Record 0 of Set 11 : outjo\n",
      "Processing Record 1 of Set 11 : shubarshi\n",
      "Processing Record 2 of Set 11 : chapais\n",
      "Processing Record 3 of Set 11 : plauen\n",
      "Processing Record 4 of Set 11 : acajutla\n",
      "Processing Record 5 of Set 11 : lompoc\n",
      "Processing Record 6 of Set 11 : enshi\n",
      "Processing Record 7 of Set 11 : lodwar\n",
      "Processing Record 8 of Set 11 : sambava\n",
      "Processing Record 9 of Set 11 : erzin\n",
      "Processing Record 10 of Set 11 : pacific grove\n",
      "Processing Record 11 of Set 11 : nuevo progreso\n",
      "Processing Record 12 of Set 11 : sao joao da barra\n",
      "Processing Record 13 of Set 11 : phan thiet\n",
      "Processing Record 14 of Set 11 : egvekinot\n",
      "Processing Record 15 of Set 11 : havoysund\n",
      "Processing Record 16 of Set 11 : quartucciu\n",
      "Processing Record 17 of Set 11 : arlit\n",
      "Processing Record 18 of Set 11 : gisborne\n",
      "Processing Record 19 of Set 11 : northam\n",
      "Processing Record 20 of Set 11 : jawhar\n",
      "Processing Record 21 of Set 11 : lesozavodsk\n",
      "Processing Record 22 of Set 11 : guangyuan\n",
      "Processing Record 23 of Set 11 : ayagoz\n",
      "Processing Record 24 of Set 11 : petropavlovsk-kamchatskiy\n",
      "Processing Record 25 of Set 11 : dukhovshchina\n"
     ]
    },
    {
     "name": "stdout",
     "output_type": "stream",
     "text": [
      "Processing Record 26 of Set 11 : lunenburg\n",
      "Processing Record 27 of Set 11 : ojinaga\n",
      "uwayl City not found in openweathermap. Skipping...\n",
      "Processing Record 28 of Set 11 : coyaima\n",
      "Processing Record 29 of Set 11 : cam ranh\n",
      "Processing Record 30 of Set 11 : itaueira\n",
      "Processing Record 31 of Set 11 : mae ramat\n",
      "Processing Record 32 of Set 11 : san policarpo\n",
      "Processing Record 33 of Set 11 : jilin\n",
      "Processing Record 34 of Set 11 : devonport\n",
      "Processing Record 35 of Set 11 : xining\n",
      "Processing Record 36 of Set 11 : la sarre\n",
      "Processing Record 37 of Set 11 : ahipara\n",
      "burica City not found in openweathermap. Skipping...\n",
      "Processing Record 38 of Set 11 : ongandjera\n",
      "Processing Record 39 of Set 11 : markova\n",
      "Processing Record 40 of Set 11 : tiznit\n",
      "Processing Record 41 of Set 11 : klyuchi\n",
      "Processing Record 42 of Set 11 : iqaluit\n",
      "Processing Record 43 of Set 11 : mantua\n",
      "Processing Record 44 of Set 11 : kalmunai\n",
      "tawnat City not found in openweathermap. Skipping...\n",
      "Processing Record 45 of Set 11 : husavik\n",
      "Processing Record 46 of Set 11 : grants\n",
      "Processing Record 47 of Set 11 : hanumangarh\n",
      "Processing Record 48 of Set 11 : olinda\n",
      "Processing Record 49 of Set 11 : gravelbourg\n",
      "Processing Record 50 of Set 11 : viedma\n",
      "tumannyy City not found in openweathermap. Skipping...\n",
      "Processing Record 0 of Set 12 : cozumel\n",
      "Processing Record 1 of Set 12 : chapeco\n",
      "-----------------------------\n",
      "Data Retrieval Complete\n"
     ]
    }
   ],
   "source": [
    "print(\"Beginning Data Retrieval \")\n",
    "print(\"-----------------------------\")\n",
    "\n",
    "# Extracting weather details for each city and storing the values in list defined above\n",
    "for index, city in enumerate(cities, start = 1):\n",
    "    try:\n",
    "        response = requests.get(query_url + city).json()\n",
    "        city_id_list.append(response[\"id\"])\n",
    "        city_name_list.append(response[\"name\"])\n",
    "        country_list.append(response[\"sys\"][\"country\"])\n",
    "        lon_list.append(response[\"coord\"][\"lon\"])\n",
    "        lat_list.append(response[\"coord\"][\"lat\"])\n",
    "        temp_list.append(response['main']['temp'])\n",
    "        max_temp_list.append(response['main']['temp_max'])\n",
    "        min_temp_list.append(response['main']['temp_min'])\n",
    "        humidity_list.append(response[\"main\"][\"humidity\"])\n",
    "        clouds_list.append(response[\"clouds\"][\"all\"])\n",
    "        wind_speed_list.append(response[\"wind\"][\"speed\"])\n",
    "        date_list.append(response[\"dt\"])\n",
    "        \n",
    "        if record_counter >= 50:\n",
    "            record_counter = 0\n",
    "            set_counter = set_counter + 1\n",
    "    \n",
    "        else:\n",
    "            record_counter = record_counter + 1\n",
    "            \n",
    "        print(f\"Processing Record {record_counter} of Set {set_counter} : {city}\") \n",
    "  \n",
    "    except(KeyError, IndexError):\n",
    "        print(f\"{city} City not found in openweathermap. Skipping...\")\n",
    "\n",
    "print(\"-----------------------------\")\n",
    "print(\"Data Retrieval Complete\")\n",
    "\n"
   ]
  },
  {
   "cell_type": "markdown",
   "metadata": {},
   "source": [
    "### Convert Raw Data to DataFrame\n",
    "* Export the city data into a .csv.\n",
    "* Display the DataFrame"
   ]
  },
  {
   "cell_type": "code",
   "execution_count": 6,
   "metadata": {},
   "outputs": [
    {
     "data": {
      "text/html": [
       "<div>\n",
       "<style scoped>\n",
       "    .dataframe tbody tr th:only-of-type {\n",
       "        vertical-align: middle;\n",
       "    }\n",
       "\n",
       "    .dataframe tbody tr th {\n",
       "        vertical-align: top;\n",
       "    }\n",
       "\n",
       "    .dataframe thead th {\n",
       "        text-align: right;\n",
       "    }\n",
       "</style>\n",
       "<table border=\"1\" class=\"dataframe\">\n",
       "  <thead>\n",
       "    <tr style=\"text-align: right;\">\n",
       "      <th></th>\n",
       "      <th>City</th>\n",
       "      <th>Lat</th>\n",
       "      <th>Lng</th>\n",
       "      <th>Max Temp</th>\n",
       "      <th>Humidity</th>\n",
       "      <th>Cloudiness</th>\n",
       "      <th>Wind Speed</th>\n",
       "      <th>Country</th>\n",
       "      <th>Date</th>\n",
       "    </tr>\n",
       "  </thead>\n",
       "  <tbody>\n",
       "    <tr>\n",
       "      <th>0</th>\n",
       "      <td>Broome</td>\n",
       "      <td>42.2506</td>\n",
       "      <td>-75.8330</td>\n",
       "      <td>78.64</td>\n",
       "      <td>58</td>\n",
       "      <td>1</td>\n",
       "      <td>3.00</td>\n",
       "      <td>US</td>\n",
       "      <td>1628178502</td>\n",
       "    </tr>\n",
       "    <tr>\n",
       "      <th>1</th>\n",
       "      <td>Portland</td>\n",
       "      <td>45.5234</td>\n",
       "      <td>-122.6762</td>\n",
       "      <td>72.45</td>\n",
       "      <td>75</td>\n",
       "      <td>75</td>\n",
       "      <td>1.01</td>\n",
       "      <td>US</td>\n",
       "      <td>1628178717</td>\n",
       "    </tr>\n",
       "    <tr>\n",
       "      <th>2</th>\n",
       "      <td>George Town</td>\n",
       "      <td>5.4112</td>\n",
       "      <td>100.3354</td>\n",
       "      <td>83.89</td>\n",
       "      <td>80</td>\n",
       "      <td>20</td>\n",
       "      <td>0.00</td>\n",
       "      <td>MY</td>\n",
       "      <td>1628178279</td>\n",
       "    </tr>\n",
       "    <tr>\n",
       "      <th>3</th>\n",
       "      <td>Cape Town</td>\n",
       "      <td>-33.9258</td>\n",
       "      <td>18.4232</td>\n",
       "      <td>64.09</td>\n",
       "      <td>67</td>\n",
       "      <td>20</td>\n",
       "      <td>3.00</td>\n",
       "      <td>ZA</td>\n",
       "      <td>1628178697</td>\n",
       "    </tr>\n",
       "    <tr>\n",
       "      <th>4</th>\n",
       "      <td>Arraial do Cabo</td>\n",
       "      <td>-22.9661</td>\n",
       "      <td>-42.0278</td>\n",
       "      <td>71.56</td>\n",
       "      <td>78</td>\n",
       "      <td>75</td>\n",
       "      <td>8.05</td>\n",
       "      <td>BR</td>\n",
       "      <td>1628178803</td>\n",
       "    </tr>\n",
       "  </tbody>\n",
       "</table>\n",
       "</div>"
      ],
      "text/plain": [
       "              City      Lat       Lng  Max Temp  Humidity  Cloudiness  \\\n",
       "0           Broome  42.2506  -75.8330     78.64        58           1   \n",
       "1         Portland  45.5234 -122.6762     72.45        75          75   \n",
       "2      George Town   5.4112  100.3354     83.89        80          20   \n",
       "3        Cape Town -33.9258   18.4232     64.09        67          20   \n",
       "4  Arraial do Cabo -22.9661  -42.0278     71.56        78          75   \n",
       "\n",
       "   Wind Speed Country        Date  \n",
       "0        3.00      US  1628178502  \n",
       "1        1.01      US  1628178717  \n",
       "2        0.00      MY  1628178279  \n",
       "3        3.00      ZA  1628178697  \n",
       "4        8.05      BR  1628178803  "
      ]
     },
     "execution_count": 6,
     "metadata": {},
     "output_type": "execute_result"
    }
   ],
   "source": [
    "#Create a dictornary to convert the list into data frame\n",
    "city_weather_df = pd.DataFrame({\n",
    "    \"City\":city_name_list,\n",
    "    \"Lat\":lat_list,\n",
    "    \"Lng\":lon_list,\n",
    "    \"Max Temp\":max_temp_list,\n",
    "    \"Humidity\":humidity_list,\n",
    "    \"Cloudiness\":clouds_list,\n",
    "    \"Wind Speed\":wind_speed_list,\n",
    "    \"Country\":country_list,\n",
    "    \"Date\":date_list\n",
    "})\n",
    "\n",
    "#Display the DataFrame\n",
    "city_weather_df.head()"
   ]
  },
  {
   "cell_type": "code",
   "execution_count": 7,
   "metadata": {},
   "outputs": [],
   "source": [
    "#Export the city data into a .csv\n",
    "city_weather_df.to_csv(\"../output_data/city_weather.csv\",header=True)"
   ]
  },
  {
   "cell_type": "code",
   "execution_count": 8,
   "metadata": {},
   "outputs": [
    {
     "data": {
      "text/plain": [
       "count    562.000000\n",
       "mean      68.798932\n",
       "std       22.043559\n",
       "min        8.000000\n",
       "25%       58.000000\n",
       "50%       73.000000\n",
       "75%       86.000000\n",
       "max      100.000000\n",
       "Name: Humidity, dtype: float64"
      ]
     },
     "execution_count": 8,
     "metadata": {},
     "output_type": "execute_result"
    }
   ],
   "source": [
    "summary_stats = city_weather_df.describe(include = \"all\")\n",
    "summary_stats_humidity = city_weather_df[\"Humidity\"].describe(include = \"all\")\n",
    "summary_stats_humidity "
   ]
  },
  {
   "cell_type": "code",
   "execution_count": 9,
   "metadata": {
    "scrolled": true
   },
   "outputs": [
    {
     "data": {
      "text/html": [
       "<div>\n",
       "<style scoped>\n",
       "    .dataframe tbody tr th:only-of-type {\n",
       "        vertical-align: middle;\n",
       "    }\n",
       "\n",
       "    .dataframe tbody tr th {\n",
       "        vertical-align: top;\n",
       "    }\n",
       "\n",
       "    .dataframe thead th {\n",
       "        text-align: right;\n",
       "    }\n",
       "</style>\n",
       "<table border=\"1\" class=\"dataframe\">\n",
       "  <thead>\n",
       "    <tr style=\"text-align: right;\">\n",
       "      <th></th>\n",
       "      <th>City</th>\n",
       "      <th>Lat</th>\n",
       "      <th>Lng</th>\n",
       "      <th>Max Temp</th>\n",
       "      <th>Humidity</th>\n",
       "      <th>Cloudiness</th>\n",
       "      <th>Wind Speed</th>\n",
       "      <th>Country</th>\n",
       "      <th>Date</th>\n",
       "    </tr>\n",
       "  </thead>\n",
       "  <tbody>\n",
       "    <tr>\n",
       "      <th>count</th>\n",
       "      <td>562</td>\n",
       "      <td>562.000000</td>\n",
       "      <td>562.000000</td>\n",
       "      <td>562.000000</td>\n",
       "      <td>562.000000</td>\n",
       "      <td>562.000000</td>\n",
       "      <td>562.000000</td>\n",
       "      <td>562</td>\n",
       "      <td>5.620000e+02</td>\n",
       "    </tr>\n",
       "    <tr>\n",
       "      <th>unique</th>\n",
       "      <td>562</td>\n",
       "      <td>NaN</td>\n",
       "      <td>NaN</td>\n",
       "      <td>NaN</td>\n",
       "      <td>NaN</td>\n",
       "      <td>NaN</td>\n",
       "      <td>NaN</td>\n",
       "      <td>104</td>\n",
       "      <td>NaN</td>\n",
       "    </tr>\n",
       "    <tr>\n",
       "      <th>top</th>\n",
       "      <td>Mitsamiouli</td>\n",
       "      <td>NaN</td>\n",
       "      <td>NaN</td>\n",
       "      <td>NaN</td>\n",
       "      <td>NaN</td>\n",
       "      <td>NaN</td>\n",
       "      <td>NaN</td>\n",
       "      <td>RU</td>\n",
       "      <td>NaN</td>\n",
       "    </tr>\n",
       "    <tr>\n",
       "      <th>freq</th>\n",
       "      <td>1</td>\n",
       "      <td>NaN</td>\n",
       "      <td>NaN</td>\n",
       "      <td>NaN</td>\n",
       "      <td>NaN</td>\n",
       "      <td>NaN</td>\n",
       "      <td>NaN</td>\n",
       "      <td>75</td>\n",
       "      <td>NaN</td>\n",
       "    </tr>\n",
       "    <tr>\n",
       "      <th>mean</th>\n",
       "      <td>NaN</td>\n",
       "      <td>19.963316</td>\n",
       "      <td>20.064544</td>\n",
       "      <td>70.764395</td>\n",
       "      <td>68.798932</td>\n",
       "      <td>56.941281</td>\n",
       "      <td>7.783185</td>\n",
       "      <td>NaN</td>\n",
       "      <td>1.628179e+09</td>\n",
       "    </tr>\n",
       "    <tr>\n",
       "      <th>std</th>\n",
       "      <td>NaN</td>\n",
       "      <td>33.644194</td>\n",
       "      <td>91.975950</td>\n",
       "      <td>14.499014</td>\n",
       "      <td>22.043559</td>\n",
       "      <td>37.105838</td>\n",
       "      <td>5.405346</td>\n",
       "      <td>NaN</td>\n",
       "      <td>1.628660e+02</td>\n",
       "    </tr>\n",
       "    <tr>\n",
       "      <th>min</th>\n",
       "      <td>NaN</td>\n",
       "      <td>-54.800000</td>\n",
       "      <td>-179.166700</td>\n",
       "      <td>32.490000</td>\n",
       "      <td>8.000000</td>\n",
       "      <td>0.000000</td>\n",
       "      <td>0.000000</td>\n",
       "      <td>NaN</td>\n",
       "      <td>1.628178e+09</td>\n",
       "    </tr>\n",
       "    <tr>\n",
       "      <th>25%</th>\n",
       "      <td>NaN</td>\n",
       "      <td>-8.089750</td>\n",
       "      <td>-64.376700</td>\n",
       "      <td>60.212500</td>\n",
       "      <td>58.000000</td>\n",
       "      <td>20.000000</td>\n",
       "      <td>3.785000</td>\n",
       "      <td>NaN</td>\n",
       "      <td>1.628179e+09</td>\n",
       "    </tr>\n",
       "    <tr>\n",
       "      <th>50%</th>\n",
       "      <td>NaN</td>\n",
       "      <td>24.545950</td>\n",
       "      <td>24.538000</td>\n",
       "      <td>73.015000</td>\n",
       "      <td>73.000000</td>\n",
       "      <td>69.000000</td>\n",
       "      <td>6.845000</td>\n",
       "      <td>NaN</td>\n",
       "      <td>1.628179e+09</td>\n",
       "    </tr>\n",
       "    <tr>\n",
       "      <th>75%</th>\n",
       "      <td>NaN</td>\n",
       "      <td>48.680000</td>\n",
       "      <td>102.524975</td>\n",
       "      <td>80.632500</td>\n",
       "      <td>86.000000</td>\n",
       "      <td>91.000000</td>\n",
       "      <td>10.795000</td>\n",
       "      <td>NaN</td>\n",
       "      <td>1.628179e+09</td>\n",
       "    </tr>\n",
       "    <tr>\n",
       "      <th>max</th>\n",
       "      <td>NaN</td>\n",
       "      <td>78.218600</td>\n",
       "      <td>179.316700</td>\n",
       "      <td>109.810000</td>\n",
       "      <td>100.000000</td>\n",
       "      <td>100.000000</td>\n",
       "      <td>34.090000</td>\n",
       "      <td>NaN</td>\n",
       "      <td>1.628179e+09</td>\n",
       "    </tr>\n",
       "  </tbody>\n",
       "</table>\n",
       "</div>"
      ],
      "text/plain": [
       "               City         Lat         Lng    Max Temp    Humidity  \\\n",
       "count           562  562.000000  562.000000  562.000000  562.000000   \n",
       "unique          562         NaN         NaN         NaN         NaN   \n",
       "top     Mitsamiouli         NaN         NaN         NaN         NaN   \n",
       "freq              1         NaN         NaN         NaN         NaN   \n",
       "mean            NaN   19.963316   20.064544   70.764395   68.798932   \n",
       "std             NaN   33.644194   91.975950   14.499014   22.043559   \n",
       "min             NaN  -54.800000 -179.166700   32.490000    8.000000   \n",
       "25%             NaN   -8.089750  -64.376700   60.212500   58.000000   \n",
       "50%             NaN   24.545950   24.538000   73.015000   73.000000   \n",
       "75%             NaN   48.680000  102.524975   80.632500   86.000000   \n",
       "max             NaN   78.218600  179.316700  109.810000  100.000000   \n",
       "\n",
       "        Cloudiness  Wind Speed Country          Date  \n",
       "count   562.000000  562.000000     562  5.620000e+02  \n",
       "unique         NaN         NaN     104           NaN  \n",
       "top            NaN         NaN      RU           NaN  \n",
       "freq           NaN         NaN      75           NaN  \n",
       "mean     56.941281    7.783185     NaN  1.628179e+09  \n",
       "std      37.105838    5.405346     NaN  1.628660e+02  \n",
       "min       0.000000    0.000000     NaN  1.628178e+09  \n",
       "25%      20.000000    3.785000     NaN  1.628179e+09  \n",
       "50%      69.000000    6.845000     NaN  1.628179e+09  \n",
       "75%      91.000000   10.795000     NaN  1.628179e+09  \n",
       "max     100.000000   34.090000     NaN  1.628179e+09  "
      ]
     },
     "execution_count": 9,
     "metadata": {},
     "output_type": "execute_result"
    }
   ],
   "source": [
    "summary_stats"
   ]
  },
  {
   "cell_type": "markdown",
   "metadata": {},
   "source": [
    "## Inspect the data and remove the cities where the humidity > 100%.\n",
    "----\n",
    "Skip this step if there are no cities that have humidity > 100%. "
   ]
  },
  {
   "cell_type": "code",
   "execution_count": 10,
   "metadata": {},
   "outputs": [
    {
     "name": "stdout",
     "output_type": "stream",
     "text": [
      "Summary statics shows that the maximum value for humidity is 100% for all cities\n"
     ]
    }
   ],
   "source": [
    "print(\"Summary statics shows that the maximum value for humidity is 100% for all cities\")"
   ]
  },
  {
   "cell_type": "code",
   "execution_count": 11,
   "metadata": {},
   "outputs": [],
   "source": [
    "#  Get the indices of cities that have humidity over 100%.\n"
   ]
  },
  {
   "cell_type": "code",
   "execution_count": 12,
   "metadata": {},
   "outputs": [],
   "source": [
    "# Make a new DataFrame equal to the city data to drop all humidity outliers by index.\n",
    "# Passing \"inplace=False\" will make a copy of the city_data DataFrame, which we call \"clean_city_data\".\n"
   ]
  },
  {
   "cell_type": "markdown",
   "metadata": {},
   "source": [
    "## Plotting the Data\n",
    "* Use proper labeling of the plots using plot titles (including date of analysis) and axes labels.\n",
    "* Save the plotted figures as .pngs."
   ]
  },
  {
   "cell_type": "markdown",
   "metadata": {},
   "source": [
    "## Latitude vs. Temperature Plot"
   ]
  },
  {
   "cell_type": "markdown",
   "metadata": {},
   "source": [
    "The plot below shows the relationship between Latitude and Temperature.\n",
    "The temperature gets hotter as we move closer to the equator 0. The temperature gradually decreases as we move further away from the equator.\n",
    "*Ignoring some of the outliers between the latitude range of 20-40"
   ]
  },
  {
   "cell_type": "code",
   "execution_count": 13,
   "metadata": {},
   "outputs": [
    {
     "data": {
      "image/png": "[encoded data removed]",
      "text/plain": [
       "<Figure size 432x288 with 1 Axes>"
      ]
     },
     "metadata": {
      "needs_background": "light"
     },
     "output_type": "display_data"
    }
   ],
   "source": [
    "#cordinates\n",
    "x_values = city_weather_df[\"Lat\"]\n",
    "y_values = city_weather_df[\"Max Temp\"]\n",
    "\n",
    "#plot\n",
    "plt.scatter(x_values, y_values, facecolor =\"Blue\", edgecolor =\"Black\")\n",
    "\n",
    "# Set title\n",
    "plt.title(\"City Latitude vs. Max Temperature (08/04/21)\")\n",
    "\n",
    "# Set x axis label\n",
    "plt.xlabel(\"Laitude\")\n",
    "\n",
    "# Set y axis label\n",
    "plt.ylabel(\"Max Temperature (F)\")\n",
    "\n",
    "# Set grid line\n",
    "plt.grid(linestyle='-', linewidth=1, alpha = 0.7)\n",
    "\n",
    "# Save the plotted figure as .pngs\n",
    "plt.savefig(\"../Images/City_Latitude_Max_Temperature_RC.png\")"
   ]
  },
  {
   "cell_type": "markdown",
   "metadata": {},
   "source": [
    "## Latitude vs. Humidity Plot"
   ]
  },
  {
   "cell_type": "markdown",
   "metadata": {},
   "source": [
    "The scatterplot below shows the relationship between Latitude and Humidity.\n",
    "The graph shows higher humidity in the southern hemisphere as compared to the northern hemisphere regions."
   ]
  },
  {
   "cell_type": "code",
   "execution_count": 14,
   "metadata": {},
   "outputs": [
    {
     "data": {
      "image/png": "[encoded data removed]",
      "text/plain": [
       "<Figure size 432x288 with 1 Axes>"
      ]
     },
     "metadata": {
      "needs_background": "light"
     },
     "output_type": "display_data"
    }
   ],
   "source": [
    "#cordinates\n",
    "x_values = city_weather_df[\"Lat\"]\n",
    "y_values = city_weather_df[\"Humidity\"]\n",
    "\n",
    "#plot\n",
    "plt.scatter(x_values, y_values, facecolor =\"Blue\", edgecolor =\"Black\")\n",
    "\n",
    "# Set title\n",
    "plt.title(\"City Latitude vs. Humidity (08/04/21)\")\n",
    "\n",
    "\n",
    "# Set x axis label\n",
    "plt.xlabel(\"Laitude\")\n",
    "\n",
    "# Set y axis label\n",
    "plt.ylabel(\"Humidity (%)\")\n",
    "\n",
    "# Set grid line\n",
    "plt.grid(linestyle='-', linewidth=1, alpha = 0.7)\n",
    "\n",
    "# Save the plotted figure as .pngs\n",
    "plt.savefig(\"../Images/City_Latitude_Humidity_RC.png\")"
   ]
  },
  {
   "cell_type": "markdown",
   "metadata": {},
   "source": [
    "## Latitude vs. Cloudiness Plot"
   ]
  },
  {
   "cell_type": "markdown",
   "metadata": {},
   "source": [
    "The scatterplot below shows the relationship between Latitude and Cloudiness.\n",
    "There is no clear correlation between latitude and cloudiness. Cloudiness is widely spread out.\n"
   ]
  },
  {
   "cell_type": "code",
   "execution_count": 15,
   "metadata": {},
   "outputs": [
    {
     "data": {
      "image/png": "[encoded data removed]",
      "text/plain": [
       "<Figure size 432x288 with 1 Axes>"
      ]
     },
     "metadata": {
      "needs_background": "light"
     },
     "output_type": "display_data"
    }
   ],
   "source": [
    "#cordinates\n",
    "x_values = city_weather_df[\"Lat\"]\n",
    "y_values = city_weather_df[\"Cloudiness\"]\n",
    "\n",
    "#plot\n",
    "plt.scatter(x_values, y_values, facecolor =\"Blue\", edgecolor =\"Black\")\n",
    "\n",
    "# Set title\n",
    "plt.title(\"City Latitude vs. Cloudiness (08/04/21)\")\n",
    "\n",
    "# Set x axis label\n",
    "plt.xlabel(\"Laitude\")\n",
    "\n",
    "# Set y axis label\n",
    "plt.ylabel(\"Cloudiness (%)\")\n",
    "\n",
    "# Set y axis limit\n",
    "plt.ylim(-5,105)\n",
    "\n",
    "# Set grid line\n",
    "plt.grid(linestyle='-', linewidth=1, alpha = 0.5)\n",
    "\n",
    "# Save the plotted figure as .pngs\n",
    "plt.savefig(\"../Images/City_Latitude_Cloudiness_RC.png\")"
   ]
  },
  {
   "cell_type": "markdown",
   "metadata": {},
   "source": [
    "## Latitude vs. Wind Speed Plot"
   ]
  },
  {
   "cell_type": "markdown",
   "metadata": {},
   "source": [
    "The scatterplot below shows the relationship between Latitude and Wind Speed.\n",
    "Most of the wind speed values are below 20 mph, with only a few values above that wind speed limit."
   ]
  },
  {
   "cell_type": "code",
   "execution_count": 16,
   "metadata": {},
   "outputs": [
    {
     "data": {
      "image/png": "[encoded data removed]",
      "text/plain": [
       "<Figure size 432x288 with 1 Axes>"
      ]
     },
     "metadata": {
      "needs_background": "light"
     },
     "output_type": "display_data"
    }
   ],
   "source": [
    "#cordinates\n",
    "x_values = city_weather_df[\"Lat\"]\n",
    "y_values = city_weather_df[\"Wind Speed\"]\n",
    "\n",
    "#plot\n",
    "plt.scatter(x_values, y_values, facecolor =\"Blue\", edgecolor =\"Black\")\n",
    "\n",
    "# Set title\n",
    "plt.title(\"City Latitude vs. Wind Speed (mph) (08/04/21)\")\n",
    "\n",
    "# Set x axis label\n",
    "plt.xlabel(\"Laitude\")\n",
    "\n",
    "# Set y axis label\n",
    "plt.ylabel(\"Wind Speed (%)\")\n",
    "\n",
    "# Set y axis limit\n",
    "plt.ylim(-2,50)\n",
    "\n",
    "# Set grid line\n",
    "plt.grid(linestyle='-', linewidth=1, alpha = 0.5)\n",
    "\n",
    "# Save the plotted figure as .pngs\n",
    "plt.savefig(\"../Images/City_Latitude_Wind Speed.png\")"
   ]
  },
  {
   "cell_type": "markdown",
   "metadata": {},
   "source": [
    "## Linear Regression"
   ]
  },
  {
   "cell_type": "code",
   "execution_count": 17,
   "metadata": {},
   "outputs": [],
   "source": [
    "# Northern and Southern Hemisphere DataFrames\n",
    "northern_hemisphere = city_weather_df.loc[city_weather_df[\"Lat\"] >= 0]\n",
    "southern_hemisphere = city_weather_df.loc[city_weather_df[\"Lat\"] < 0]\n"
   ]
  },
  {
   "cell_type": "code",
   "execution_count": 18,
   "metadata": {},
   "outputs": [],
   "source": [
    "# Define function for creating linear regression and scatter plot\n",
    "def linear_regression(x,y):\n",
    "    print(f\"The r-squared is : {round(st.pearsonr(x, y)[0],2)}\")\n",
    "    (slope, intercept, rvalue, pvalue, stderr) = linregress(x, y)\n",
    "    regress_values = x * slope + intercept\n",
    "    line_equation = \"y = \" + str(round(slope,2)) + \"x + \" + str(round(intercept,2))\n",
    "    plt.scatter(x, y)\n",
    "    plt.plot(x,regress_values,\"r-\")\n",
    "    return line_equation\n"
   ]
  },
  {
   "cell_type": "markdown",
   "metadata": {},
   "source": [
    "####  Northern Hemisphere - Max Temp vs. Latitude Linear Regression"
   ]
  },
  {
   "cell_type": "markdown",
   "metadata": {},
   "source": [
    "The plot below show a strong negative correlation between latitude and max temperature for the northern hemisphere.\n",
    "As the latitude increases, temperature decreases in the northern hemisphere."
   ]
  },
  {
   "cell_type": "code",
   "execution_count": 19,
   "metadata": {},
   "outputs": [
    {
     "name": "stdout",
     "output_type": "stream",
     "text": [
      "The r-squared is : -0.7\n"
     ]
    },
    {
     "data": {
      "image/png": "[encoded data removed]",
      "text/plain": [
       "<Figure size 432x288 with 1 Axes>"
      ]
     },
     "metadata": {
      "needs_background": "light"
     },
     "output_type": "display_data"
    }
   ],
   "source": [
    "x_values = northern_hemisphere[\"Lat\"]\n",
    "y_values = northern_hemisphere[\"Max Temp\"]\n",
    "\n",
    "# Call  linear_regression function\n",
    "equation = linear_regression(x_values,y_values)\n",
    "\n",
    "#Display Linear equation\n",
    "plt.annotate(equation,(0,40),fontsize=12,color=\"red\")\n",
    "\n",
    "# Set a title\n",
    "plt.title(\"Northern Hemisphere - Max Temp vs. Latitude Linear Regression\")\n",
    "\n",
    "# Set xlabel\n",
    "plt.xlabel(\"Latitude\")\n",
    "\n",
    "# Set ylabel\n",
    "plt.ylabel(\"Max Temp (F)\")\n",
    "\n",
    "# Save the figure\n",
    "plt.savefig(\"../Images/Northern Hemisphere - Max Temp vs. Latitude Linear Regression_RC.png\")"
   ]
  },
  {
   "cell_type": "markdown",
   "metadata": {},
   "source": [
    "####  Southern Hemisphere - Max Temp vs. Latitude Linear Regression"
   ]
  },
  {
   "cell_type": "markdown",
   "metadata": {},
   "source": [
    "The plot below show a positive correlation between latitude and max temperature for the southern hemisphere.\n",
    "As the latitude increases, temperature increases in the southern hemisphere."
   ]
  },
  {
   "cell_type": "code",
   "execution_count": 20,
   "metadata": {},
   "outputs": [
    {
     "name": "stdout",
     "output_type": "stream",
     "text": [
      "The r-squared is : 0.8\n"
     ]
    },
    {
     "data": {
      "image/png": "[encoded data removed]",
      "text/plain": [
       "<Figure size 432x288 with 1 Axes>"
      ]
     },
     "metadata": {
      "needs_background": "light"
     },
     "output_type": "display_data"
    }
   ],
   "source": [
    "x_values = southern_hemisphere[\"Lat\"]\n",
    "y_values = southern_hemisphere[\"Max Temp\"]\n",
    "\n",
    "# Call linear_regression function\n",
    "equation = linear_regression(x_values,y_values)\n",
    "\n",
    "#Display Linear equation\n",
    "plt.annotate(equation,(-50,40),fontsize=12,color=\"red\")\n",
    "\n",
    "# Set a title\n",
    "plt.title(\"Southern Hemisphere - Max Temp vs. Latitude Linear Regression\")\n",
    "\n",
    "# Set xlabel\n",
    "plt.xlabel(\"Latitude\")\n",
    "\n",
    "# Set ylabel\n",
    "plt.ylabel(\"Max Temp (F)\")\n",
    "\n",
    "# Save the figure\n",
    "plt.savefig(\"../Images/Southern Hemisphere - Max Temp vs. Latitude Linear Regression_RC.png\")"
   ]
  },
  {
   "cell_type": "markdown",
   "metadata": {},
   "source": [
    "####  Northern Hemisphere - Humidity (%) vs. Latitude Linear Regression"
   ]
  },
  {
   "cell_type": "markdown",
   "metadata": {},
   "source": [
    "The graph below shows very little positive correlation between humidity and latitude for northern hemisphere."
   ]
  },
  {
   "cell_type": "code",
   "execution_count": 21,
   "metadata": {},
   "outputs": [
    {
     "name": "stdout",
     "output_type": "stream",
     "text": [
      "The r-squared is : 0.11\n"
     ]
    },
    {
     "data": {
      "image/png": "[encoded data removed]",
      "text/plain": [
       "<Figure size 432x288 with 1 Axes>"
      ]
     },
     "metadata": {
      "needs_background": "light"
     },
     "output_type": "display_data"
    }
   ],
   "source": [
    "x_values = northern_hemisphere[\"Lat\"]\n",
    "y_values = northern_hemisphere[\"Humidity\"]\n",
    "\n",
    "# Call  linear_regression function\n",
    "equation = linear_regression(x_values,y_values)\n",
    "\n",
    "#Display Linear equation\n",
    "plt.annotate(equation,(0,40),fontsize=12,color=\"red\")\n",
    "\n",
    "# Set a title\n",
    "plt.title(\"Northern Hemisphere - Humidity (%) vs. Latitude Linear Regression\")\n",
    "\n",
    "# Set xlabel\n",
    "plt.xlabel(\"Latitude\")\n",
    "\n",
    "# Set ylabel\n",
    "plt.ylabel(\"Humidity (%)\")\n",
    "\n",
    "# Save the figure\n",
    "plt.savefig(\"../Images/Northern Hemisphere - Humidity (%) vs. Latitude Linear Regression_RC.png\")"
   ]
  },
  {
   "cell_type": "markdown",
   "metadata": {},
   "source": [
    "####  Southern Hemisphere - Humidity (%) vs. Latitude Linear Regression"
   ]
  },
  {
   "cell_type": "markdown",
   "metadata": {},
   "source": [
    "The graph below shows moderate Negative correlation between humidity and latitude for southern hemisphere."
   ]
  },
  {
   "cell_type": "code",
   "execution_count": 22,
   "metadata": {},
   "outputs": [
    {
     "name": "stdout",
     "output_type": "stream",
     "text": [
      "The r-squared is : -0.15\n"
     ]
    },
    {
     "data": {
      "image/png": "[encoded data removed]",
      "text/plain": [
       "<Figure size 432x288 with 1 Axes>"
      ]
     },
     "metadata": {
      "needs_background": "light"
     },
     "output_type": "display_data"
    }
   ],
   "source": [
    "x_values = southern_hemisphere[\"Lat\"]\n",
    "y_values = southern_hemisphere[\"Humidity\"]\n",
    "\n",
    "# Call  linear_regression function\n",
    "equation = linear_regression(x_values,y_values)\n",
    "\n",
    "#Display Linear equation\n",
    "plt.annotate(equation,(-50,50),fontsize=12,color=\"red\")\n",
    "\n",
    "# Set title\n",
    "plt.title(\"Southern Hemisphere - Humidity (%) vs. Latitude Linear Regression\")\n",
    "\n",
    "# Set xlabel\n",
    "plt.xlabel(\"Latitude\")\n",
    "\n",
    "# Set ylabel\n",
    "plt.ylabel(\"Humidity (%)\")\n",
    "\n",
    "# Save the figure\n",
    "plt.savefig(\"../Images/Southern Hemisphere - Humidity (%) vs. Latitude Linear Regression_RC.png\")"
   ]
  },
  {
   "cell_type": "markdown",
   "metadata": {},
   "source": [
    "####  Northern Hemisphere - Cloudiness (%) vs. Latitude Linear Regression"
   ]
  },
  {
   "cell_type": "markdown",
   "metadata": {},
   "source": [
    "The graph below shows no clear correlation between cloudiness and latitude for northern hemisphere."
   ]
  },
  {
   "cell_type": "code",
   "execution_count": 23,
   "metadata": {},
   "outputs": [
    {
     "name": "stdout",
     "output_type": "stream",
     "text": [
      "The r-squared is : -0.03\n"
     ]
    },
    {
     "data": {
      "image/png": "[encoded data removed]",
      "text/plain": [
       "<Figure size 432x288 with 1 Axes>"
      ]
     },
     "metadata": {
      "needs_background": "light"
     },
     "output_type": "display_data"
    }
   ],
   "source": [
    "x_values = northern_hemisphere[\"Lat\"]\n",
    "y_values = northern_hemisphere[\"Cloudiness\"]\n",
    "\n",
    "# Call  linear_regression function\n",
    "equation = linear_regression(x_values,y_values)\n",
    "\n",
    "#Display Linear equation\n",
    "plt.annotate(equation,(0,45),fontsize=12,color=\"red\")\n",
    "\n",
    "# Set a title\n",
    "plt.title(\"Northern Hemisphere - Cloudiness (%) vs. Latitude Linear Regression\")\n",
    "\n",
    "# Set xlabel\n",
    "plt.xlabel(\"Latitude\")\n",
    "\n",
    "# Set ylabel\n",
    "plt.ylabel(\"Cloudiness (%)\")\n",
    "\n",
    "# Save the figure\n",
    "plt.savefig(\"../Images/Northern Hemisphere - Cloudiness (%) vs. Latitude Linear Regression_RC.png\")"
   ]
  },
  {
   "cell_type": "markdown",
   "metadata": {},
   "source": [
    "####  Southern Hemisphere - Cloudiness (%) vs. Latitude Linear Regression"
   ]
  },
  {
   "cell_type": "markdown",
   "metadata": {},
   "source": [
    "The graph below shows no clear correlation between cloudiness and latitude for southern hemisphere."
   ]
  },
  {
   "cell_type": "code",
   "execution_count": 24,
   "metadata": {},
   "outputs": [
    {
     "name": "stdout",
     "output_type": "stream",
     "text": [
      "The r-squared is : -0.01\n"
     ]
    },
    {
     "data": {
      "image/png": "[encoded data removed]",
      "text/plain": [
       "<Figure size 432x288 with 1 Axes>"
      ]
     },
     "metadata": {
      "needs_background": "light"
     },
     "output_type": "display_data"
    }
   ],
   "source": [
    "x_values = southern_hemisphere[\"Lat\"]\n",
    "y_values = southern_hemisphere[\"Cloudiness\"]\n",
    "\n",
    "# Call  linear_regression function\n",
    "equation = linear_regression(x_values,y_values)\n",
    "\n",
    "#Display Linear equation\n",
    "plt.annotate(equation,(-50,60),fontsize=12,color=\"red\")\n",
    "\n",
    "# Set a title\n",
    "plt.title(\"Southern Hemisphere - Cloudiness (%) vs. Latitude Linear Regression\")\n",
    "\n",
    "# Set xlabel\n",
    "plt.xlabel(\"Latitude\")\n",
    "\n",
    "# Set ylabel\n",
    "plt.ylabel(\"Cloudiness (%)\")\n",
    "\n",
    "# Save the figure\n",
    "plt.savefig(\"../Images/Southern Hemisphere - Cloudiness (%) vs. Latitude Linear Regression_RC.png\")"
   ]
  },
  {
   "cell_type": "markdown",
   "metadata": {},
   "source": [
    "####  Northern Hemisphere - Wind Speed (mph) vs. Latitude Linear Regression"
   ]
  },
  {
   "cell_type": "markdown",
   "metadata": {},
   "source": [
    "The graph below shows no correlation between latitude and wind speed for northern hemisphere"
   ]
  },
  {
   "cell_type": "code",
   "execution_count": 25,
   "metadata": {},
   "outputs": [
    {
     "name": "stdout",
     "output_type": "stream",
     "text": [
      "The r-squared is : -0.05\n"
     ]
    },
    {
     "data": {
      "image/png": "[encoded data removed]",
      "text/plain": [
       "<Figure size 432x288 with 1 Axes>"
      ]
     },
     "metadata": {
      "needs_background": "light"
     },
     "output_type": "display_data"
    }
   ],
   "source": [
    "x_values = northern_hemisphere[\"Lat\"]\n",
    "y_values = northern_hemisphere[\"Wind Speed\"]\n",
    "\n",
    "# Call  linear_regression function\n",
    "equation = linear_regression(x_values,y_values)\n",
    "\n",
    "#Display Linear equation\n",
    "plt.annotate(equation,(0,30),fontsize=12,color=\"red\")\n",
    "\n",
    "# Set  title\n",
    "plt.title(\"Northern Hemisphere - Wind Speed (mph) vs. Latitude Linear Regression\")\n",
    "\n",
    "# Set xlabel\n",
    "plt.xlabel(\"Latitude\")\n",
    "\n",
    "# Set ylabel\n",
    "plt.ylabel(\"Wind Speed (mph)\")\n",
    "\n",
    "# Save the figure\n",
    "plt.savefig(\"../Images/Northern Hemisphere - Wind Speed vs. Latitude Linear Regression_RC.png\")"
   ]
  },
  {
   "cell_type": "markdown",
   "metadata": {},
   "source": [
    "####  Southern Hemisphere - Wind Speed (mph) vs. Latitude Linear Regression"
   ]
  },
  {
   "cell_type": "markdown",
   "metadata": {},
   "source": [
    "The graph below shows a weak negative correlation between latitude and wind speed for southern hemisphere"
   ]
  },
  {
   "cell_type": "code",
   "execution_count": 26,
   "metadata": {},
   "outputs": [
    {
     "name": "stdout",
     "output_type": "stream",
     "text": [
      "The r-squared is : -0.12\n"
     ]
    },
    {
     "data": {
      "image/png": "[encoded data removed]",
      "text/plain": [
       "<Figure size 432x288 with 1 Axes>"
      ]
     },
     "metadata": {
      "needs_background": "light"
     },
     "output_type": "display_data"
    }
   ],
   "source": [
    "x_values = southern_hemisphere[\"Lat\"]\n",
    "y_values = southern_hemisphere[\"Wind Speed\"]\n",
    "\n",
    "# Call  linear_regression function\n",
    "equation = linear_regression(x_values,y_values)\n",
    "\n",
    "#Display Linear equation\n",
    "plt.annotate(equation,(-50,20),fontsize=12,color=\"red\")\n",
    "\n",
    "# Set  title\n",
    "plt.title(\"Southern Hemisphere - Wind Speed (mph) vs. Latitude Linear Regression\")\n",
    "\n",
    "# Set xlabel\n",
    "plt.xlabel(\"Latitude\")\n",
    "\n",
    "# Set ylabel\n",
    "plt.ylabel(\"Wind Speed (mph)\")\n",
    "\n",
    "# Save the figure\n",
    "plt.savefig(\"../Images/Southern Hemisphere - Wind Speed vs. Latitude Linear Regression_RC.png\")"
   ]
  }
 ],
 "metadata": {
  "anaconda-cloud": {},
  "kernel_info": {
   "name": "python3"
  },
  "kernelspec": {
   "display_name": "Python 3",
   "language": "python",
   "name": "python3"
  },
  "language_info": {
   "codemirror_mode": {
    "name": "ipython",
    "version": 3
   },
   "file_extension": ".py",
   "mimetype": "text/x-python",
   "name": "python",
   "nbconvert_exporter": "python",
   "pygments_lexer": "ipython3",
   "version": "3.8.8"
  },
  "latex_envs": {
   "LaTeX_envs_menu_present": true,
   "autoclose": false,
   "autocomplete": true,
   "bibliofile": "biblio.bib",
   "cite_by": "apalike",
   "current_citInitial": 1,
   "eqLabelWithNumbers": true,
   "eqNumInitial": 1,
   "hotkeys": {
    "equation": "Ctrl-E",
    "itemize": "Ctrl-I"
   },
   "labels_anchors": false,
   "latex_user_defs": false,
   "report_style_numbering": false,
   "user_envs_cfg": false
  },
  "nteract": {
   "version": "0.12.3"
  }
 },
 "nbformat": 4,
 "nbformat_minor": 2
}
