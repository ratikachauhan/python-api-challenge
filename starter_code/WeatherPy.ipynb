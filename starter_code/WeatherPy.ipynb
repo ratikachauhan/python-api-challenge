{
 "cells": [
  {
   "cell_type": "markdown",
   "metadata": {},
   "source": [
    "# WeatherPy\n",
    "----\n",
    "\n",
    "#### Note\n",
    "* Instructions have been included for each segment. You do not have to follow them exactly, but they are included to help you think through the steps."
   ]
  },
  {
   "cell_type": "code",
   "execution_count": 1,
   "metadata": {
    "scrolled": true
   },
   "outputs": [],
   "source": [
    "# Dependencies and Setup\n",
    "import matplotlib.pyplot as plt\n",
    "import pandas as pd\n",
    "import numpy as np\n",
    "import requests\n",
    "import time\n",
    "import json\n",
    "from scipy.stats import linregress\n",
    "import scipy.stats as st\n",
    "\n",
    "\n",
    "# Import API key\n",
    "from api_keys import weather_api_key\n",
    "\n",
    "# Incorporated citipy to determine city based on latitude and longitude\n",
    "from citipy import citipy\n",
    "\n",
    "# Output File (CSV)\n",
    "output_data_file = \"output_data/cities.csv\"\n",
    "\n",
    "# Range of latitudes and longitudes\n",
    "lat_range = (-90, 90)\n",
    "lng_range = (-180, 180)"
   ]
  },
  {
   "cell_type": "markdown",
   "metadata": {},
   "source": [
    "## Generate Cities List"
   ]
  },
  {
   "cell_type": "code",
   "execution_count": 2,
   "metadata": {},
   "outputs": [
    {
     "data": {
      "text/plain": [
       "596"
      ]
     },
     "execution_count": 2,
     "metadata": {},
     "output_type": "execute_result"
    }
   ],
   "source": [
    "# List for holding lat_lngs and cities\n",
    "lat_lngs = []\n",
    "cities = []\n",
    "\n",
    "# Create a set of random lat and lng combinations\n",
    "lats = np.random.uniform(lat_range[0], lat_range[1], size=1500)\n",
    "lngs = np.random.uniform(lng_range[0], lng_range[1], size=1500)\n",
    "lat_lngs = zip(lats, lngs)\n",
    "\n",
    "# Identify nearest city for each lat, lng combination\n",
    "for lat_lng in lat_lngs:\n",
    "    city = citipy.nearest_city(lat_lng[0], lat_lng[1]).city_name\n",
    "    \n",
    "    # If the city is unique, then add it to a our cities list\n",
    "    if city not in cities:\n",
    "        cities.append(city)\n",
    "\n",
    "# Print the city count to confirm sufficient count\n",
    "len(cities)"
   ]
  },
  {
   "cell_type": "markdown",
   "metadata": {},
   "source": [
    "### Perform API Calls\n",
    "* Perform a weather check on each city using a series of successive API calls.\n",
    "* Include a print log of each city as it'sbeing processed (with the city number and city name).\n"
   ]
  },
  {
   "cell_type": "code",
   "execution_count": 3,
   "metadata": {},
   "outputs": [
    {
     "data": {
      "text/plain": [
       "'http://api.openweathermap.org/data/2.5/weather?appid=f17856e4ce796d9d03022d7f22e4f88f&units=imperial&q='"
      ]
     },
     "execution_count": 3,
     "metadata": {},
     "output_type": "execute_result"
    }
   ],
   "source": [
    "#Building query url using base url and parameters\n",
    "\n",
    "base_url = \"http://api.openweathermap.org/data/2.5/weather?\"\n",
    "units = \"imperial\"\n",
    "query_url = f\"{base_url}appid={weather_api_key}&units={units}&q=\"\n",
    "query_url\n"
   ]
  },
  {
   "cell_type": "code",
   "execution_count": 4,
   "metadata": {},
   "outputs": [],
   "source": [
    "# Create empty lists to store the data for each citi.\n",
    "\n",
    "record_counter=0\n",
    "set_counter=1\n",
    "city_id_list = []\n",
    "city_name_list = []\n",
    "country_list = []\n",
    "lon_list = []\n",
    "lat_list = []\n",
    "temp_list = []\n",
    "max_temp_list = []\n",
    "min_temp_list = []\n",
    "humidity_list = []\n",
    "clouds_list = []\n",
    "wind_speed_list = []\n",
    "date_list = []"
   ]
  },
  {
   "cell_type": "code",
   "execution_count": 5,
   "metadata": {},
   "outputs": [
    {
     "name": "stdout",
     "output_type": "stream",
     "text": [
      "Beginning Data Retrieval \n",
      "-----------------------------\n",
      "Processing Record 1 of Set 1 : punta arenas\n",
      "Processing Record 2 of Set 1 : yellowknife\n",
      "illoqqortoormiut City not found in openweathermap. Skipping...\n",
      "Processing Record 3 of Set 1 : port elizabeth\n",
      "Processing Record 4 of Set 1 : mayumba\n",
      "Processing Record 5 of Set 1 : aklavik\n",
      "Processing Record 6 of Set 1 : bluff\n",
      "Processing Record 7 of Set 1 : busselton\n",
      "Processing Record 8 of Set 1 : new norfolk\n",
      "Processing Record 9 of Set 1 : saint-philippe\n",
      "Processing Record 10 of Set 1 : albany\n",
      "Processing Record 11 of Set 1 : haines junction\n",
      "Processing Record 12 of Set 1 : mogadishu\n",
      "Processing Record 13 of Set 1 : rikitea\n",
      "Processing Record 14 of Set 1 : nishihara\n",
      "Processing Record 15 of Set 1 : tateyama\n",
      "palabuhanratu City not found in openweathermap. Skipping...\n",
      "Processing Record 16 of Set 1 : santa rosa de cabal\n",
      "Processing Record 17 of Set 1 : vestmanna\n",
      "Processing Record 18 of Set 1 : xianyang\n",
      "Processing Record 19 of Set 1 : yarmouth\n",
      "Processing Record 20 of Set 1 : upernavik\n",
      "Processing Record 21 of Set 1 : armidale\n",
      "Processing Record 22 of Set 1 : jamestown\n",
      "Processing Record 23 of Set 1 : barrow\n",
      "Processing Record 24 of Set 1 : puerto ayora\n",
      "Processing Record 25 of Set 1 : hermanus\n",
      "Processing Record 26 of Set 1 : nikolskoye\n",
      "Processing Record 27 of Set 1 : vaini\n",
      "Processing Record 28 of Set 1 : shingu\n",
      "Processing Record 29 of Set 1 : prince george\n",
      "Processing Record 30 of Set 1 : dikson\n",
      "Processing Record 31 of Set 1 : kapaa\n",
      "Processing Record 32 of Set 1 : avarua\n",
      "Processing Record 33 of Set 1 : mataura\n",
      "Processing Record 34 of Set 1 : thompson\n",
      "Processing Record 35 of Set 1 : korla\n",
      "alunitdag City not found in openweathermap. Skipping...\n",
      "Processing Record 36 of Set 1 : qaanaaq\n",
      "Processing Record 37 of Set 1 : belyy yar\n",
      "Processing Record 38 of Set 1 : atuona\n",
      "Processing Record 39 of Set 1 : temirtau\n",
      "Processing Record 40 of Set 1 : cape town\n",
      "Processing Record 41 of Set 1 : mahebourg\n",
      "Processing Record 42 of Set 1 : hilo\n",
      "Processing Record 43 of Set 1 : akyab\n",
      "Processing Record 44 of Set 1 : marzuq\n",
      "ruatoria City not found in openweathermap. Skipping...\n",
      "Processing Record 45 of Set 1 : videira\n",
      "Processing Record 46 of Set 1 : nago\n",
      "Processing Record 47 of Set 1 : georgetown\n",
      "Processing Record 48 of Set 1 : marrakesh\n",
      "Processing Record 49 of Set 1 : napoleon\n",
      "Processing Record 50 of Set 1 : itaqui\n",
      "Processing Record 0 of Set 2 : isetskoye\n",
      "Processing Record 1 of Set 2 : cidreira\n",
      "Processing Record 2 of Set 2 : bredasdorp\n",
      "Processing Record 3 of Set 2 : broome\n",
      "Processing Record 4 of Set 2 : nong khai\n",
      "Processing Record 5 of Set 2 : refojos de basto\n",
      "Processing Record 6 of Set 2 : east london\n",
      "Processing Record 7 of Set 2 : victoria\n",
      "Processing Record 8 of Set 2 : rundu\n",
      "Processing Record 9 of Set 2 : kusu\n",
      "Processing Record 10 of Set 2 : broken hill\n",
      "Processing Record 11 of Set 2 : tura\n",
      "tuggurt City not found in openweathermap. Skipping...\n",
      "tunduru City not found in openweathermap. Skipping...\n",
      "Processing Record 12 of Set 2 : half moon bay\n",
      "Processing Record 13 of Set 2 : airai\n",
      "Processing Record 14 of Set 2 : arraial do cabo\n",
      "Processing Record 15 of Set 2 : makakilo city\n",
      "Processing Record 16 of Set 2 : najran\n",
      "Processing Record 17 of Set 2 : mananjary\n",
      "Processing Record 18 of Set 2 : panaba\n",
      "Processing Record 19 of Set 2 : richards bay\n",
      "Processing Record 20 of Set 2 : kamina\n",
      "Processing Record 21 of Set 2 : carballo\n",
      "samusu City not found in openweathermap. Skipping...\n",
      "Processing Record 22 of Set 2 : touros\n",
      "Processing Record 23 of Set 2 : fortuna\n",
      "taolanaro City not found in openweathermap. Skipping...\n",
      "Processing Record 24 of Set 2 : chokurdakh\n",
      "Processing Record 25 of Set 2 : araouane\n",
      "nizhneyansk City not found in openweathermap. Skipping...\n",
      "Processing Record 26 of Set 2 : namibe\n",
      "Processing Record 27 of Set 2 : saskylakh\n",
      "Processing Record 28 of Set 2 : pisco\n",
      "Processing Record 29 of Set 2 : mar del plata\n",
      "Processing Record 30 of Set 2 : derventa\n",
      "Processing Record 31 of Set 2 : tasiilaq\n",
      "Processing Record 32 of Set 2 : mecca\n",
      "Processing Record 33 of Set 2 : ushuaia\n",
      "Processing Record 34 of Set 2 : altus\n",
      "Processing Record 35 of Set 2 : pabna\n",
      "Processing Record 36 of Set 2 : jumla\n",
      "Processing Record 37 of Set 2 : aloja\n",
      "Processing Record 38 of Set 2 : nanortalik\n",
      "vaitupu City not found in openweathermap. Skipping...\n",
      "Processing Record 39 of Set 2 : biltine\n",
      "Processing Record 40 of Set 2 : nizhniy baskunchak\n",
      "Processing Record 41 of Set 2 : qaqortoq\n",
      "Processing Record 42 of Set 2 : paamiut\n",
      "Processing Record 43 of Set 2 : tiksi\n",
      "Processing Record 44 of Set 2 : sao joao da barra\n",
      "Processing Record 45 of Set 2 : uruguaiana\n",
      "Processing Record 46 of Set 2 : fojnica\n",
      "Processing Record 47 of Set 2 : kismayo\n",
      "Processing Record 48 of Set 2 : ilheus\n",
      "Processing Record 49 of Set 2 : ponta do sol\n",
      "Processing Record 50 of Set 2 : klaksvik\n",
      "Processing Record 0 of Set 3 : sibolga\n",
      "Processing Record 1 of Set 3 : mandalgovi\n",
      "Processing Record 2 of Set 3 : sinnamary\n",
      "Processing Record 3 of Set 3 : port hardy\n",
      "Processing Record 4 of Set 3 : dzerzhinsk\n",
      "Processing Record 5 of Set 3 : san patricio\n",
      "Processing Record 6 of Set 3 : nabire\n",
      "Processing Record 7 of Set 3 : mier\n",
      "Processing Record 8 of Set 3 : mindelo\n",
      "Processing Record 9 of Set 3 : luderitz\n",
      "Processing Record 10 of Set 3 : tuatapere\n",
      "Processing Record 11 of Set 3 : hobart\n",
      "Processing Record 12 of Set 3 : luwuk\n",
      "Processing Record 13 of Set 3 : acapulco\n",
      "Processing Record 14 of Set 3 : cadillac\n",
      "Processing Record 15 of Set 3 : sampit\n",
      "Processing Record 16 of Set 3 : cururupu\n",
      "Processing Record 17 of Set 3 : hamilton\n",
      "Processing Record 18 of Set 3 : bambanglipuro\n",
      "belushya guba City not found in openweathermap. Skipping...\n",
      "doctor pedro p. pena City not found in openweathermap. Skipping...\n",
      "Processing Record 19 of Set 3 : cherskiy\n",
      "Processing Record 20 of Set 3 : sept-iles\n",
      "Processing Record 21 of Set 3 : mason city\n",
      "Processing Record 22 of Set 3 : lagoa\n",
      "Processing Record 23 of Set 3 : balkhash\n",
      "Processing Record 24 of Set 3 : atar\n",
      "rungata City not found in openweathermap. Skipping...\n",
      "yunjinghong City not found in openweathermap. Skipping...\n",
      "Processing Record 25 of Set 3 : bambous virieux\n",
      "Processing Record 26 of Set 3 : karratha\n",
      "Processing Record 27 of Set 3 : pompeu\n",
      "Processing Record 28 of Set 3 : nogales\n",
      "Processing Record 29 of Set 3 : sitka\n",
      "Processing Record 30 of Set 3 : high level\n",
      "Processing Record 31 of Set 3 : lebu\n",
      "Processing Record 32 of Set 3 : saint-gedeon\n",
      "skagastrond City not found in openweathermap. Skipping...\n",
      "Processing Record 33 of Set 3 : bengkulu\n",
      "Processing Record 34 of Set 3 : gonaives\n",
      "Processing Record 35 of Set 3 : labuhan\n",
      "Processing Record 36 of Set 3 : norman wells\n",
      "Processing Record 37 of Set 3 : stornoway\n",
      "Processing Record 38 of Set 3 : bubaque\n",
      "Processing Record 39 of Set 3 : isla mujeres\n",
      "marcona City not found in openweathermap. Skipping...\n",
      "Processing Record 40 of Set 3 : jijiga\n",
      "Processing Record 41 of Set 3 : pacific grove\n",
      "Processing Record 42 of Set 3 : luba\n",
      "Processing Record 43 of Set 3 : lodeynoye pole\n",
      "Processing Record 44 of Set 3 : port alfred\n",
      "Processing Record 45 of Set 3 : ancud\n",
      "Processing Record 46 of Set 3 : ushtobe\n",
      "Processing Record 47 of Set 3 : longyearbyen\n",
      "Processing Record 48 of Set 3 : kodiak\n",
      "Processing Record 49 of Set 3 : cabo san lucas\n",
      "Processing Record 50 of Set 3 : xichang\n",
      "Processing Record 0 of Set 4 : yulara\n",
      "uzhur-4 City not found in openweathermap. Skipping...\n",
      "Processing Record 1 of Set 4 : pevek\n",
      "Processing Record 2 of Set 4 : kahului\n",
      "Processing Record 3 of Set 4 : beloha\n",
      "Processing Record 4 of Set 4 : hecun\n",
      "Processing Record 5 of Set 4 : eyl\n",
      "Processing Record 6 of Set 4 : saint-pierre\n",
      "Processing Record 7 of Set 4 : yingcheng\n",
      "grand river south east City not found in openweathermap. Skipping...\n",
      "Processing Record 8 of Set 4 : la ronge\n",
      "Processing Record 9 of Set 4 : isangel\n",
      "Processing Record 10 of Set 4 : springfield\n",
      "Processing Record 11 of Set 4 : tari\n",
      "Processing Record 12 of Set 4 : kungurtug\n",
      "sentyabrskiy City not found in openweathermap. Skipping...\n",
      "Processing Record 13 of Set 4 : kudahuvadhoo\n",
      "Processing Record 14 of Set 4 : rio grande\n",
      "Processing Record 15 of Set 4 : abu dhabi\n",
      "Processing Record 16 of Set 4 : kieta\n",
      "Processing Record 17 of Set 4 : comodoro rivadavia\n",
      "Processing Record 18 of Set 4 : khorixas\n",
      "Processing Record 19 of Set 4 : ikalamavony\n"
     ]
    },
    {
     "name": "stdout",
     "output_type": "stream",
     "text": [
      "Processing Record 20 of Set 4 : iranshahr\n",
      "Processing Record 21 of Set 4 : butaritari\n",
      "Processing Record 22 of Set 4 : sao filipe\n",
      "attawapiskat City not found in openweathermap. Skipping...\n",
      "Processing Record 23 of Set 4 : batagay-alyta\n",
      "Processing Record 24 of Set 4 : quepos\n",
      "Processing Record 25 of Set 4 : takoradi\n",
      "toliary City not found in openweathermap. Skipping...\n",
      "Processing Record 26 of Set 4 : kalmunai\n",
      "Processing Record 27 of Set 4 : limoges\n",
      "Processing Record 28 of Set 4 : severo-kurilsk\n",
      "mys shmidta City not found in openweathermap. Skipping...\n",
      "Processing Record 29 of Set 4 : faanui\n",
      "Processing Record 30 of Set 4 : hami\n",
      "Processing Record 31 of Set 4 : khilok\n",
      "Processing Record 32 of Set 4 : nakhon phanom\n",
      "Processing Record 33 of Set 4 : gaimersheim\n",
      "Processing Record 34 of Set 4 : port lincoln\n",
      "Processing Record 35 of Set 4 : port blair\n",
      "Processing Record 36 of Set 4 : carnarvon\n",
      "Processing Record 37 of Set 4 : anadyr\n",
      "Processing Record 38 of Set 4 : itarema\n",
      "Processing Record 39 of Set 4 : svelgen\n",
      "saryshagan City not found in openweathermap. Skipping...\n",
      "Processing Record 40 of Set 4 : vagamo\n",
      "Processing Record 41 of Set 4 : vestmannaeyjar\n",
      "Processing Record 42 of Set 4 : nanchong\n",
      "Processing Record 43 of Set 4 : ermelo\n",
      "Processing Record 44 of Set 4 : dingle\n",
      "Processing Record 45 of Set 4 : porto santo\n",
      "Processing Record 46 of Set 4 : marsa matruh\n",
      "Processing Record 47 of Set 4 : dalbandin\n",
      "Processing Record 48 of Set 4 : ocos\n",
      "Processing Record 49 of Set 4 : jalu\n",
      "Processing Record 50 of Set 4 : hervey bay\n",
      "Processing Record 0 of Set 5 : oxford\n",
      "tsihombe City not found in openweathermap. Skipping...\n",
      "Processing Record 1 of Set 5 : cayenne\n",
      "Processing Record 2 of Set 5 : imbituba\n",
      "Processing Record 3 of Set 5 : nouadhibou\n",
      "labutta City not found in openweathermap. Skipping...\n",
      "barentsburg City not found in openweathermap. Skipping...\n",
      "Processing Record 4 of Set 5 : nouakchott\n",
      "Processing Record 5 of Set 5 : chuy\n",
      "Processing Record 6 of Set 5 : yola\n",
      "Processing Record 7 of Set 5 : saint-francois\n",
      "Processing Record 8 of Set 5 : konstantinovka\n",
      "Processing Record 9 of Set 5 : dunedin\n",
      "Processing Record 10 of Set 5 : vermilion\n",
      "Processing Record 11 of Set 5 : dryden\n",
      "Processing Record 12 of Set 5 : mitsamiouli\n",
      "Processing Record 13 of Set 5 : ribeira grande\n",
      "Processing Record 14 of Set 5 : tuktoyaktuk\n",
      "Processing Record 15 of Set 5 : susanino\n",
      "Processing Record 16 of Set 5 : tenenkou\n",
      "Processing Record 17 of Set 5 : saint george\n",
      "Processing Record 18 of Set 5 : ustka\n",
      "Processing Record 19 of Set 5 : denpasar\n",
      "Processing Record 20 of Set 5 : diego de almagro\n",
      "Processing Record 21 of Set 5 : bilibino\n",
      "Processing Record 22 of Set 5 : hofn\n",
      "Processing Record 23 of Set 5 : hokitika\n",
      "Processing Record 24 of Set 5 : kidal\n",
      "Processing Record 25 of Set 5 : batticaloa\n",
      "Processing Record 26 of Set 5 : hasaki\n",
      "kamenskoye City not found in openweathermap. Skipping...\n",
      "Processing Record 27 of Set 5 : goulburn\n",
      "Processing Record 28 of Set 5 : belawan\n",
      "Processing Record 29 of Set 5 : opuwo\n",
      "Processing Record 30 of Set 5 : lavrentiya\n",
      "Processing Record 31 of Set 5 : honningsvag\n",
      "Processing Record 32 of Set 5 : qui nhon\n",
      "Processing Record 33 of Set 5 : kuala terengganu\n",
      "Processing Record 34 of Set 5 : chifeng\n",
      "Processing Record 35 of Set 5 : kautokeino\n",
      "kargapolye City not found in openweathermap. Skipping...\n",
      "Processing Record 36 of Set 5 : caravelas\n",
      "Processing Record 37 of Set 5 : mount gambier\n",
      "Processing Record 38 of Set 5 : olinda\n",
      "Processing Record 39 of Set 5 : kapitanivka\n",
      "Processing Record 40 of Set 5 : narsaq\n",
      "Processing Record 41 of Set 5 : tabou\n",
      "Processing Record 42 of Set 5 : chabahar\n",
      "scottsburgh City not found in openweathermap. Skipping...\n",
      "Processing Record 43 of Set 5 : avera\n",
      "Processing Record 44 of Set 5 : zhigansk\n",
      "Processing Record 45 of Set 5 : sechura\n",
      "Processing Record 46 of Set 5 : swan river\n",
      "Processing Record 47 of Set 5 : altepexi\n",
      "Processing Record 48 of Set 5 : tilichiki\n",
      "Processing Record 49 of Set 5 : talnakh\n",
      "Processing Record 50 of Set 5 : waingapu\n",
      "Processing Record 0 of Set 6 : makat\n",
      "Processing Record 1 of Set 6 : aykhal\n",
      "Processing Record 2 of Set 6 : okha\n",
      "Processing Record 3 of Set 6 : robertsport\n",
      "Processing Record 4 of Set 6 : teguldet\n",
      "Processing Record 5 of Set 6 : boyolangu\n",
      "Processing Record 6 of Set 6 : alice springs\n",
      "amderma City not found in openweathermap. Skipping...\n",
      "Processing Record 7 of Set 6 : tsabong\n",
      "saleaula City not found in openweathermap. Skipping...\n",
      "Processing Record 8 of Set 6 : ibra\n",
      "Processing Record 9 of Set 6 : alta floresta\n",
      "Processing Record 10 of Set 6 : coihaique\n",
      "Processing Record 11 of Set 6 : kaitangata\n",
      "Processing Record 12 of Set 6 : hobyo\n",
      "Processing Record 13 of Set 6 : puli\n",
      "Processing Record 14 of Set 6 : bathsheba\n",
      "Processing Record 15 of Set 6 : termiz\n",
      "Processing Record 16 of Set 6 : magrath\n",
      "Processing Record 17 of Set 6 : kamiiso\n",
      "Processing Record 18 of Set 6 : katsuura\n",
      "Processing Record 19 of Set 6 : kyabe\n",
      "Processing Record 20 of Set 6 : puro\n",
      "Processing Record 21 of Set 6 : riyadh\n",
      "Processing Record 22 of Set 6 : eldorado\n",
      "dzhusaly City not found in openweathermap. Skipping...\n",
      "Processing Record 23 of Set 6 : vila franca do campo\n",
      "Processing Record 24 of Set 6 : te anau\n",
      "Processing Record 25 of Set 6 : mahibadhoo\n",
      "Processing Record 26 of Set 6 : provideniya\n",
      "Processing Record 27 of Set 6 : tamandare\n",
      "Processing Record 28 of Set 6 : college\n",
      "Processing Record 29 of Set 6 : ifanadiana\n",
      "Processing Record 30 of Set 6 : sambava\n",
      "Processing Record 31 of Set 6 : eha amufu\n",
      "Processing Record 32 of Set 6 : thaton\n",
      "Processing Record 33 of Set 6 : leshukonskoye\n",
      "Processing Record 34 of Set 6 : san francisco\n",
      "Processing Record 35 of Set 6 : esperance\n",
      "Processing Record 36 of Set 6 : puerto carreno\n",
      "Processing Record 37 of Set 6 : pangody\n",
      "Processing Record 38 of Set 6 : eureka\n",
      "Processing Record 39 of Set 6 : vila velha\n",
      "jiddah City not found in openweathermap. Skipping...\n",
      "Processing Record 40 of Set 6 : bang saphan\n",
      "Processing Record 41 of Set 6 : boende\n",
      "Processing Record 42 of Set 6 : mount isa\n",
      "Processing Record 43 of Set 6 : portland\n",
      "Processing Record 44 of Set 6 : ukiah\n",
      "Processing Record 45 of Set 6 : bunia\n",
      "Processing Record 46 of Set 6 : northam\n",
      "Processing Record 47 of Set 6 : dali\n",
      "Processing Record 48 of Set 6 : lompoc\n",
      "Processing Record 49 of Set 6 : antalaha\n",
      "Processing Record 50 of Set 6 : saldanha\n",
      "Processing Record 0 of Set 7 : khatanga\n",
      "Processing Record 1 of Set 7 : olafsvik\n",
      "afmadu City not found in openweathermap. Skipping...\n",
      "Processing Record 2 of Set 7 : shakawe\n",
      "Processing Record 3 of Set 7 : guerrero negro\n",
      "Processing Record 4 of Set 7 : marsh harbour\n",
      "Processing Record 5 of Set 7 : patti\n",
      "Processing Record 6 of Set 7 : abha\n",
      "Processing Record 7 of Set 7 : lahat\n",
      "Processing Record 8 of Set 7 : yartsevo\n",
      "Processing Record 9 of Set 7 : yarega\n",
      "bargal City not found in openweathermap. Skipping...\n",
      "Processing Record 10 of Set 7 : tomatlan\n",
      "Processing Record 11 of Set 7 : basco\n",
      "Processing Record 12 of Set 7 : nantucket\n",
      "Processing Record 13 of Set 7 : bayeux\n",
      "Processing Record 14 of Set 7 : bagan\n",
      "Processing Record 15 of Set 7 : ambilobe\n",
      "Processing Record 16 of Set 7 : juybar\n",
      "Processing Record 17 of Set 7 : metro\n",
      "Processing Record 18 of Set 7 : burgeo\n",
      "Processing Record 19 of Set 7 : bethel\n",
      "Processing Record 20 of Set 7 : pila\n",
      "Processing Record 21 of Set 7 : san borja\n",
      "Processing Record 22 of Set 7 : kununurra\n",
      "samalaeulu City not found in openweathermap. Skipping...\n",
      "andevoranto City not found in openweathermap. Skipping...\n",
      "Processing Record 23 of Set 7 : venice\n",
      "Processing Record 24 of Set 7 : mancio lima\n",
      "Processing Record 25 of Set 7 : vitim\n",
      "Processing Record 26 of Set 7 : sivas\n",
      "Processing Record 27 of Set 7 : ayan\n",
      "umzimvubu City not found in openweathermap. Skipping...\n",
      "Processing Record 28 of Set 7 : akusha\n",
      "Processing Record 29 of Set 7 : kirakira\n",
      "Processing Record 30 of Set 7 : souillac\n",
      "Processing Record 31 of Set 7 : berekum\n",
      "Processing Record 32 of Set 7 : noumea\n",
      "Processing Record 33 of Set 7 : fukuma\n",
      "Processing Record 34 of Set 7 : san cristobal\n",
      "Processing Record 35 of Set 7 : mehamn\n",
      "Processing Record 36 of Set 7 : henties bay\n",
      "Processing Record 37 of Set 7 : grindavik\n",
      "Processing Record 38 of Set 7 : kavaratti\n",
      "Processing Record 39 of Set 7 : praya\n",
      "Processing Record 40 of Set 7 : muriae\n",
      "Processing Record 41 of Set 7 : lata\n"
     ]
    },
    {
     "name": "stdout",
     "output_type": "stream",
     "text": [
      "Processing Record 42 of Set 7 : beringovskiy\n",
      "Processing Record 43 of Set 7 : ossora\n",
      "Processing Record 44 of Set 7 : constitucion\n",
      "tiruvottiyur City not found in openweathermap. Skipping...\n",
      "Processing Record 45 of Set 7 : novomykolayivka\n",
      "mrirt City not found in openweathermap. Skipping...\n",
      "Processing Record 46 of Set 7 : baruun-urt\n",
      "Processing Record 47 of Set 7 : kharp\n",
      "Processing Record 48 of Set 7 : castro\n",
      "Processing Record 49 of Set 7 : benguela\n",
      "Processing Record 50 of Set 7 : umm kaddadah\n",
      "Processing Record 0 of Set 8 : jian\n",
      "el faiyum City not found in openweathermap. Skipping...\n",
      "Processing Record 1 of Set 8 : telenesti\n",
      "Processing Record 2 of Set 8 : saurimo\n",
      "Processing Record 3 of Set 8 : ko samui\n",
      "Processing Record 4 of Set 8 : rawson\n",
      "Processing Record 5 of Set 8 : bilma\n",
      "Processing Record 6 of Set 8 : swellendam\n",
      "Processing Record 7 of Set 8 : chara\n",
      "Processing Record 8 of Set 8 : sajanan\n",
      "Processing Record 9 of Set 8 : hualmay\n",
      "Processing Record 10 of Set 8 : batemans bay\n",
      "Processing Record 11 of Set 8 : luanda\n",
      "Processing Record 12 of Set 8 : port hedland\n",
      "Processing Record 13 of Set 8 : oussouye\n",
      "Processing Record 14 of Set 8 : nyurba\n",
      "Processing Record 15 of Set 8 : oktyabrskiy\n",
      "Processing Record 16 of Set 8 : coahuayana\n",
      "Processing Record 17 of Set 8 : almaznyy\n",
      "yefimovskiy City not found in openweathermap. Skipping...\n",
      "Processing Record 18 of Set 8 : lumberton\n",
      "Processing Record 19 of Set 8 : pangnirtung\n",
      "Processing Record 20 of Set 8 : yoichi\n",
      "tumannyy City not found in openweathermap. Skipping...\n",
      "Processing Record 21 of Set 8 : almansa\n",
      "Processing Record 22 of Set 8 : shimoda\n",
      "Processing Record 23 of Set 8 : khandbari\n",
      "Processing Record 24 of Set 8 : yei\n",
      "Processing Record 25 of Set 8 : shanghai\n",
      "Processing Record 26 of Set 8 : beruwala\n",
      "Processing Record 27 of Set 8 : uniontown\n",
      "Processing Record 28 of Set 8 : dong xoai\n",
      "hihifo City not found in openweathermap. Skipping...\n",
      "Processing Record 29 of Set 8 : foz\n",
      "Processing Record 30 of Set 8 : tautira\n",
      "Processing Record 31 of Set 8 : santa isabel\n",
      "Processing Record 32 of Set 8 : yuancheng\n",
      "Processing Record 33 of Set 8 : zhangye\n",
      "Processing Record 34 of Set 8 : poyarkovo\n",
      "Processing Record 35 of Set 8 : mimongo\n",
      "Processing Record 36 of Set 8 : amahai\n",
      "Processing Record 37 of Set 8 : kruisfontein\n",
      "Processing Record 38 of Set 8 : lesozavodsk\n",
      "Processing Record 39 of Set 8 : hithadhoo\n",
      "Processing Record 40 of Set 8 : ankpa\n",
      "Processing Record 41 of Set 8 : ravar\n",
      "Processing Record 42 of Set 8 : gamba\n",
      "Processing Record 43 of Set 8 : pyaozerskiy\n",
      "Processing Record 44 of Set 8 : torbay\n",
      "Processing Record 45 of Set 8 : imperia\n",
      "Processing Record 46 of Set 8 : salalah\n",
      "Processing Record 47 of Set 8 : burlington\n",
      "Processing Record 48 of Set 8 : ilulissat\n",
      "Processing Record 49 of Set 8 : melfi\n",
      "Processing Record 50 of Set 8 : camabatela\n",
      "Processing Record 0 of Set 9 : aseri\n",
      "Processing Record 1 of Set 9 : beeville\n",
      "Processing Record 2 of Set 9 : elizabeth city\n",
      "Processing Record 3 of Set 9 : neepawa\n",
      "Processing Record 4 of Set 9 : lubango\n",
      "ngukurr City not found in openweathermap. Skipping...\n",
      "Processing Record 5 of Set 9 : huarmey\n",
      "mutsamudu City not found in openweathermap. Skipping...\n",
      "Processing Record 6 of Set 9 : sur\n",
      "Processing Record 7 of Set 9 : cassilandia\n",
      "Processing Record 8 of Set 9 : meulaboh\n",
      "bolungarvik City not found in openweathermap. Skipping...\n",
      "Processing Record 9 of Set 9 : mbandaka\n",
      "Processing Record 10 of Set 9 : kargasok\n",
      "Processing Record 11 of Set 9 : methoni\n",
      "Processing Record 12 of Set 9 : soro\n",
      "Processing Record 13 of Set 9 : alta\n",
      "Processing Record 14 of Set 9 : sokoto\n",
      "Processing Record 15 of Set 9 : rio gallegos\n",
      "Processing Record 16 of Set 9 : grand gaube\n",
      "Processing Record 17 of Set 9 : chumikan\n",
      "Processing Record 18 of Set 9 : mayo\n",
      "Processing Record 19 of Set 9 : lorengau\n",
      "Processing Record 20 of Set 9 : tual\n",
      "Processing Record 21 of Set 9 : sibay\n",
      "Processing Record 22 of Set 9 : kavieng\n",
      "Processing Record 23 of Set 9 : naryan-mar\n",
      "Processing Record 24 of Set 9 : wanning\n",
      "Processing Record 25 of Set 9 : ondangwa\n",
      "Processing Record 26 of Set 9 : urumqi\n",
      "Processing Record 27 of Set 9 : muros\n",
      "Processing Record 28 of Set 9 : luganville\n",
      "Processing Record 29 of Set 9 : san juan\n",
      "Processing Record 30 of Set 9 : kutum\n",
      "Processing Record 31 of Set 9 : mendoza\n",
      "Processing Record 32 of Set 9 : elk point\n",
      "Processing Record 33 of Set 9 : santiago de cao\n",
      "Processing Record 34 of Set 9 : fare\n",
      "Processing Record 35 of Set 9 : rehoboth\n",
      "Processing Record 36 of Set 9 : ambulu\n",
      "Processing Record 37 of Set 9 : sioux lookout\n",
      "Processing Record 38 of Set 9 : kagay\n",
      "Processing Record 39 of Set 9 : tapes\n",
      "Processing Record 40 of Set 9 : gramado\n",
      "Processing Record 41 of Set 9 : kaeo\n",
      "Processing Record 42 of Set 9 : otradnoye\n",
      "Processing Record 43 of Set 9 : khasan\n",
      "Processing Record 44 of Set 9 : prieska\n",
      "Processing Record 45 of Set 9 : sibi\n",
      "Processing Record 46 of Set 9 : prince rupert\n",
      "Processing Record 47 of Set 9 : ulaangom\n",
      "Processing Record 48 of Set 9 : omboue\n",
      "Processing Record 49 of Set 9 : ghanzi\n",
      "Processing Record 50 of Set 9 : shar\n",
      "daosa City not found in openweathermap. Skipping...\n",
      "Processing Record 0 of Set 10 : nueva gerona\n",
      "Processing Record 1 of Set 10 : thinadhoo\n",
      "Processing Record 2 of Set 10 : ozernovskiy\n",
      "Processing Record 3 of Set 10 : bintulu\n",
      "Processing Record 4 of Set 10 : colombia\n",
      "Processing Record 5 of Set 10 : stavyshche\n",
      "Processing Record 6 of Set 10 : riberalta\n",
      "Processing Record 7 of Set 10 : lodwar\n",
      "Processing Record 8 of Set 10 : ledyard\n",
      "Processing Record 9 of Set 10 : kilmallock\n",
      "Processing Record 10 of Set 10 : beyneu\n",
      "Processing Record 11 of Set 10 : wawa\n",
      "Processing Record 12 of Set 10 : de-kastri\n",
      "Processing Record 13 of Set 10 : katherine\n",
      "Processing Record 14 of Set 10 : orotukan\n",
      "Processing Record 15 of Set 10 : shenjiamen\n",
      "Processing Record 16 of Set 10 : puerto escondido\n",
      "Processing Record 17 of Set 10 : bella union\n",
      "Processing Record 18 of Set 10 : poceirao\n",
      "Processing Record 19 of Set 10 : conceicao do araguaia\n",
      "Processing Record 20 of Set 10 : umm lajj\n",
      "Processing Record 21 of Set 10 : margate\n",
      "Processing Record 22 of Set 10 : felipe carrillo puerto\n",
      "gurgan City not found in openweathermap. Skipping...\n",
      "Processing Record 23 of Set 10 : kloulklubed\n",
      "Processing Record 24 of Set 10 : longhua\n",
      "Processing Record 25 of Set 10 : bagdarin\n",
      "Processing Record 26 of Set 10 : ewa beach\n",
      "Processing Record 27 of Set 10 : santa ines\n",
      "Processing Record 28 of Set 10 : darab\n",
      "Processing Record 29 of Set 10 : agadez\n",
      "kadykchan City not found in openweathermap. Skipping...\n",
      "Processing Record 30 of Set 10 : caldwell\n",
      "Processing Record 31 of Set 10 : zhumadian\n",
      "Processing Record 32 of Set 10 : clarence town\n",
      "Processing Record 33 of Set 10 : tynda\n",
      "Processing Record 34 of Set 10 : taungdwingyi\n",
      "Processing Record 35 of Set 10 : pozo colorado\n",
      "Processing Record 36 of Set 10 : deputatskiy\n",
      "Processing Record 37 of Set 10 : tabas\n",
      "Processing Record 38 of Set 10 : hovd\n",
      "Processing Record 39 of Set 10 : ust-koksa\n",
      "dolbeau City not found in openweathermap. Skipping...\n",
      "buariki City not found in openweathermap. Skipping...\n",
      "Processing Record 40 of Set 10 : polunochnoye\n",
      "Processing Record 41 of Set 10 : ogaminana\n",
      "Processing Record 42 of Set 10 : berlevag\n",
      "Processing Record 43 of Set 10 : sorland\n",
      "Processing Record 44 of Set 10 : lumeje\n",
      "Processing Record 45 of Set 10 : kjollefjord\n",
      "Processing Record 46 of Set 10 : dhidhdhoo\n",
      "Processing Record 47 of Set 10 : taoudenni\n",
      "Processing Record 48 of Set 10 : krasnyye chetai\n",
      "Processing Record 49 of Set 10 : saint anthony\n",
      "Processing Record 50 of Set 10 : kondinskoye\n",
      "Processing Record 0 of Set 11 : ouesso\n",
      "Processing Record 1 of Set 11 : lincoln\n",
      "Processing Record 2 of Set 11 : ginda\n",
      "Processing Record 3 of Set 11 : sembe\n",
      "Processing Record 4 of Set 11 : shu\n",
      "Processing Record 5 of Set 11 : bonavista\n",
      "Processing Record 6 of Set 11 : khani\n",
      "Processing Record 7 of Set 11 : oum hadjer\n",
      "Processing Record 8 of Set 11 : changji\n",
      "Processing Record 9 of Set 11 : moses lake\n",
      "Processing Record 10 of Set 11 : gillette\n",
      "Processing Record 11 of Set 11 : husavik\n",
      "Processing Record 12 of Set 11 : tessalit\n",
      "Processing Record 13 of Set 11 : taltal\n",
      "Processing Record 14 of Set 11 : churapcha\n",
      "Processing Record 15 of Set 11 : necochea\n",
      "Processing Record 16 of Set 11 : mgandu\n",
      "Processing Record 17 of Set 11 : annaberg-buchholz\n"
     ]
    },
    {
     "name": "stdout",
     "output_type": "stream",
     "text": [
      "Processing Record 18 of Set 11 : sebezh\n",
      "Processing Record 19 of Set 11 : nagua\n",
      "Processing Record 20 of Set 11 : laguna\n",
      "Processing Record 21 of Set 11 : caranavi\n",
      "Processing Record 22 of Set 11 : veraval\n",
      "Processing Record 23 of Set 11 : kangaatsiaq\n",
      "Processing Record 24 of Set 11 : xuddur\n",
      "Processing Record 25 of Set 11 : hailey\n",
      "Processing Record 26 of Set 11 : iisalmi\n",
      "Processing Record 27 of Set 11 : keuruu\n",
      "Processing Record 28 of Set 11 : mareeba\n",
      "Processing Record 29 of Set 11 : bad sachsa\n",
      "Processing Record 30 of Set 11 : rusera\n",
      "Processing Record 31 of Set 11 : salumbar\n",
      "Processing Record 32 of Set 11 : antigonish\n",
      "Processing Record 33 of Set 11 : saint-augustin\n",
      "Processing Record 34 of Set 11 : hailar\n",
      "-----------------------------\n",
      "Data Retrieval Complete\n"
     ]
    }
   ],
   "source": [
    "print(\"Beginning Data Retrieval \")\n",
    "print(\"-----------------------------\")\n",
    "\n",
    "# Extracting weather details for each city and storing the values in list defined above\n",
    "for index, city in enumerate(cities, start = 1):\n",
    "    try:\n",
    "        response = requests.get(query_url + city).json()\n",
    "        city_id_list.append(response[\"id\"])\n",
    "        city_name_list.append(response[\"name\"])\n",
    "        country_list.append(response[\"sys\"][\"country\"])\n",
    "        lon_list.append(response[\"coord\"][\"lon\"])\n",
    "        lat_list.append(response[\"coord\"][\"lat\"])\n",
    "        temp_list.append(response['main']['temp'])\n",
    "        max_temp_list.append(response['main']['temp_max'])\n",
    "        min_temp_list.append(response['main']['temp_min'])\n",
    "        humidity_list.append(response[\"main\"][\"humidity\"])\n",
    "        clouds_list.append(response[\"clouds\"][\"all\"])\n",
    "        wind_speed_list.append(response[\"wind\"][\"speed\"])\n",
    "        date_list.append(response[\"dt\"])\n",
    "        \n",
    "        if record_counter >= 50:\n",
    "            record_counter = 0\n",
    "            set_counter = set_counter + 1\n",
    "    \n",
    "        else:\n",
    "            record_counter = record_counter + 1\n",
    "            \n",
    "        print(f\"Processing Record {record_counter} of Set {set_counter} : {city}\") \n",
    "  \n",
    "    except(KeyError, IndexError):\n",
    "        print(f\"{city} City not found in openweathermap. Skipping...\")\n",
    "\n",
    "print(\"-----------------------------\")\n",
    "print(\"Data Retrieval Complete\")\n",
    "\n"
   ]
  },
  {
   "cell_type": "markdown",
   "metadata": {},
   "source": [
    "### Convert Raw Data to DataFrame\n",
    "* Export the city data into a .csv.\n",
    "* Display the DataFrame"
   ]
  },
  {
   "cell_type": "code",
   "execution_count": 6,
   "metadata": {},
   "outputs": [
    {
     "data": {
      "text/html": [
       "<div>\n",
       "<style scoped>\n",
       "    .dataframe tbody tr th:only-of-type {\n",
       "        vertical-align: middle;\n",
       "    }\n",
       "\n",
       "    .dataframe tbody tr th {\n",
       "        vertical-align: top;\n",
       "    }\n",
       "\n",
       "    .dataframe thead th {\n",
       "        text-align: right;\n",
       "    }\n",
       "</style>\n",
       "<table border=\"1\" class=\"dataframe\">\n",
       "  <thead>\n",
       "    <tr style=\"text-align: right;\">\n",
       "      <th></th>\n",
       "      <th>City</th>\n",
       "      <th>Lat</th>\n",
       "      <th>Lng</th>\n",
       "      <th>Max Temp</th>\n",
       "      <th>Humidity</th>\n",
       "      <th>Cloudiness</th>\n",
       "      <th>Wind Speed</th>\n",
       "      <th>Country</th>\n",
       "      <th>Date</th>\n",
       "    </tr>\n",
       "  </thead>\n",
       "  <tbody>\n",
       "    <tr>\n",
       "      <th>0</th>\n",
       "      <td>Punta Arenas</td>\n",
       "      <td>-53.1500</td>\n",
       "      <td>-70.9167</td>\n",
       "      <td>44.71</td>\n",
       "      <td>76</td>\n",
       "      <td>0</td>\n",
       "      <td>9.22</td>\n",
       "      <td>CL</td>\n",
       "      <td>1628127683</td>\n",
       "    </tr>\n",
       "    <tr>\n",
       "      <th>1</th>\n",
       "      <td>Yellowknife</td>\n",
       "      <td>62.4560</td>\n",
       "      <td>-114.3525</td>\n",
       "      <td>55.92</td>\n",
       "      <td>58</td>\n",
       "      <td>90</td>\n",
       "      <td>9.22</td>\n",
       "      <td>CA</td>\n",
       "      <td>1628127458</td>\n",
       "    </tr>\n",
       "    <tr>\n",
       "      <th>2</th>\n",
       "      <td>Port Elizabeth</td>\n",
       "      <td>-33.9180</td>\n",
       "      <td>25.5701</td>\n",
       "      <td>61.09</td>\n",
       "      <td>94</td>\n",
       "      <td>40</td>\n",
       "      <td>8.05</td>\n",
       "      <td>ZA</td>\n",
       "      <td>1628127290</td>\n",
       "    </tr>\n",
       "    <tr>\n",
       "      <th>3</th>\n",
       "      <td>Mayumba</td>\n",
       "      <td>-3.4320</td>\n",
       "      <td>10.6554</td>\n",
       "      <td>71.65</td>\n",
       "      <td>91</td>\n",
       "      <td>69</td>\n",
       "      <td>4.05</td>\n",
       "      <td>GA</td>\n",
       "      <td>1628127531</td>\n",
       "    </tr>\n",
       "    <tr>\n",
       "      <th>4</th>\n",
       "      <td>Aklavik</td>\n",
       "      <td>68.2191</td>\n",
       "      <td>-135.0107</td>\n",
       "      <td>68.83</td>\n",
       "      <td>35</td>\n",
       "      <td>0</td>\n",
       "      <td>11.99</td>\n",
       "      <td>CA</td>\n",
       "      <td>1628127683</td>\n",
       "    </tr>\n",
       "  </tbody>\n",
       "</table>\n",
       "</div>"
      ],
      "text/plain": [
       "             City      Lat       Lng  Max Temp  Humidity  Cloudiness  \\\n",
       "0    Punta Arenas -53.1500  -70.9167     44.71        76           0   \n",
       "1     Yellowknife  62.4560 -114.3525     55.92        58          90   \n",
       "2  Port Elizabeth -33.9180   25.5701     61.09        94          40   \n",
       "3         Mayumba  -3.4320   10.6554     71.65        91          69   \n",
       "4         Aklavik  68.2191 -135.0107     68.83        35           0   \n",
       "\n",
       "   Wind Speed Country        Date  \n",
       "0        9.22      CL  1628127683  \n",
       "1        9.22      CA  1628127458  \n",
       "2        8.05      ZA  1628127290  \n",
       "3        4.05      GA  1628127531  \n",
       "4       11.99      CA  1628127683  "
      ]
     },
     "execution_count": 6,
     "metadata": {},
     "output_type": "execute_result"
    }
   ],
   "source": [
    "#Create a dictornary to convert the list into data frame\n",
    "city_weather_df = pd.DataFrame({\n",
    "    \"City\":city_name_list,\n",
    "    \"Lat\":lat_list,\n",
    "    \"Lng\":lon_list,\n",
    "    \"Max Temp\":max_temp_list,\n",
    "    \"Humidity\":humidity_list,\n",
    "    \"Cloudiness\":clouds_list,\n",
    "    \"Wind Speed\":wind_speed_list,\n",
    "    \"Country\":country_list,\n",
    "    \"Date\":date_list\n",
    "})\n",
    "\n",
    "#Display the DataFrame\n",
    "city_weather_df.head()"
   ]
  },
  {
   "cell_type": "code",
   "execution_count": 7,
   "metadata": {},
   "outputs": [],
   "source": [
    "#Export the city data into a .csv\n",
    "city_weather_df.to_csv(\"../output_data/city_weather.csv\",header=True)"
   ]
  },
  {
   "cell_type": "code",
   "execution_count": 8,
   "metadata": {},
   "outputs": [
    {
     "data": {
      "text/plain": [
       "count    544.000000\n",
       "mean      70.126838\n",
       "std       21.327243\n",
       "min        9.000000\n",
       "25%       59.000000\n",
       "50%       75.000000\n",
       "75%       87.000000\n",
       "max      100.000000\n",
       "Name: Humidity, dtype: float64"
      ]
     },
     "execution_count": 8,
     "metadata": {},
     "output_type": "execute_result"
    }
   ],
   "source": [
    "summary_stats = city_weather_df.describe(include = \"all\")\n",
    "summary_stats_humidity = city_weather_df[\"Humidity\"].describe(include = \"all\")\n",
    "summary_stats_humidity "
   ]
  },
  {
   "cell_type": "code",
   "execution_count": 9,
   "metadata": {
    "scrolled": true
   },
   "outputs": [
    {
     "data": {
      "text/html": [
       "<div>\n",
       "<style scoped>\n",
       "    .dataframe tbody tr th:only-of-type {\n",
       "        vertical-align: middle;\n",
       "    }\n",
       "\n",
       "    .dataframe tbody tr th {\n",
       "        vertical-align: top;\n",
       "    }\n",
       "\n",
       "    .dataframe thead th {\n",
       "        text-align: right;\n",
       "    }\n",
       "</style>\n",
       "<table border=\"1\" class=\"dataframe\">\n",
       "  <thead>\n",
       "    <tr style=\"text-align: right;\">\n",
       "      <th></th>\n",
       "      <th>City</th>\n",
       "      <th>Lat</th>\n",
       "      <th>Lng</th>\n",
       "      <th>Max Temp</th>\n",
       "      <th>Humidity</th>\n",
       "      <th>Cloudiness</th>\n",
       "      <th>Wind Speed</th>\n",
       "      <th>Country</th>\n",
       "      <th>Date</th>\n",
       "    </tr>\n",
       "  </thead>\n",
       "  <tbody>\n",
       "    <tr>\n",
       "      <th>count</th>\n",
       "      <td>544</td>\n",
       "      <td>544.000000</td>\n",
       "      <td>544.000000</td>\n",
       "      <td>544.000000</td>\n",
       "      <td>544.000000</td>\n",
       "      <td>544.000000</td>\n",
       "      <td>544.000000</td>\n",
       "      <td>544</td>\n",
       "      <td>5.440000e+02</td>\n",
       "    </tr>\n",
       "    <tr>\n",
       "      <th>unique</th>\n",
       "      <td>544</td>\n",
       "      <td>NaN</td>\n",
       "      <td>NaN</td>\n",
       "      <td>NaN</td>\n",
       "      <td>NaN</td>\n",
       "      <td>NaN</td>\n",
       "      <td>NaN</td>\n",
       "      <td>113</td>\n",
       "      <td>NaN</td>\n",
       "    </tr>\n",
       "    <tr>\n",
       "      <th>top</th>\n",
       "      <td>Khanbari</td>\n",
       "      <td>NaN</td>\n",
       "      <td>NaN</td>\n",
       "      <td>NaN</td>\n",
       "      <td>NaN</td>\n",
       "      <td>NaN</td>\n",
       "      <td>NaN</td>\n",
       "      <td>RU</td>\n",
       "      <td>NaN</td>\n",
       "    </tr>\n",
       "    <tr>\n",
       "      <th>freq</th>\n",
       "      <td>1</td>\n",
       "      <td>NaN</td>\n",
       "      <td>NaN</td>\n",
       "      <td>NaN</td>\n",
       "      <td>NaN</td>\n",
       "      <td>NaN</td>\n",
       "      <td>NaN</td>\n",
       "      <td>65</td>\n",
       "      <td>NaN</td>\n",
       "    </tr>\n",
       "    <tr>\n",
       "      <th>mean</th>\n",
       "      <td>NaN</td>\n",
       "      <td>19.870162</td>\n",
       "      <td>19.394594</td>\n",
       "      <td>69.666158</td>\n",
       "      <td>70.126838</td>\n",
       "      <td>54.056985</td>\n",
       "      <td>7.420607</td>\n",
       "      <td>NaN</td>\n",
       "      <td>1.628128e+09</td>\n",
       "    </tr>\n",
       "    <tr>\n",
       "      <th>std</th>\n",
       "      <td>NaN</td>\n",
       "      <td>32.854297</td>\n",
       "      <td>87.143829</td>\n",
       "      <td>13.205536</td>\n",
       "      <td>21.327243</td>\n",
       "      <td>40.024698</td>\n",
       "      <td>5.451201</td>\n",
       "      <td>NaN</td>\n",
       "      <td>1.119166e+02</td>\n",
       "    </tr>\n",
       "    <tr>\n",
       "      <th>min</th>\n",
       "      <td>NaN</td>\n",
       "      <td>-54.800000</td>\n",
       "      <td>-175.200000</td>\n",
       "      <td>31.950000</td>\n",
       "      <td>9.000000</td>\n",
       "      <td>0.000000</td>\n",
       "      <td>0.000000</td>\n",
       "      <td>NaN</td>\n",
       "      <td>1.628127e+09</td>\n",
       "    </tr>\n",
       "    <tr>\n",
       "      <th>25%</th>\n",
       "      <td>NaN</td>\n",
       "      <td>-7.971400</td>\n",
       "      <td>-53.668975</td>\n",
       "      <td>58.642500</td>\n",
       "      <td>59.000000</td>\n",
       "      <td>10.000000</td>\n",
       "      <td>3.492500</td>\n",
       "      <td>NaN</td>\n",
       "      <td>1.628128e+09</td>\n",
       "    </tr>\n",
       "    <tr>\n",
       "      <th>50%</th>\n",
       "      <td>NaN</td>\n",
       "      <td>22.426100</td>\n",
       "      <td>21.744100</td>\n",
       "      <td>70.420000</td>\n",
       "      <td>75.000000</td>\n",
       "      <td>62.500000</td>\n",
       "      <td>6.005000</td>\n",
       "      <td>NaN</td>\n",
       "      <td>1.628128e+09</td>\n",
       "    </tr>\n",
       "    <tr>\n",
       "      <th>75%</th>\n",
       "      <td>NaN</td>\n",
       "      <td>47.651825</td>\n",
       "      <td>93.975000</td>\n",
       "      <td>80.562500</td>\n",
       "      <td>87.000000</td>\n",
       "      <td>98.000000</td>\n",
       "      <td>9.972500</td>\n",
       "      <td>NaN</td>\n",
       "      <td>1.628128e+09</td>\n",
       "    </tr>\n",
       "    <tr>\n",
       "      <th>max</th>\n",
       "      <td>NaN</td>\n",
       "      <td>78.218600</td>\n",
       "      <td>179.316700</td>\n",
       "      <td>108.070000</td>\n",
       "      <td>100.000000</td>\n",
       "      <td>100.000000</td>\n",
       "      <td>34.180000</td>\n",
       "      <td>NaN</td>\n",
       "      <td>1.628128e+09</td>\n",
       "    </tr>\n",
       "  </tbody>\n",
       "</table>\n",
       "</div>"
      ],
      "text/plain": [
       "            City         Lat         Lng    Max Temp    Humidity  Cloudiness  \\\n",
       "count        544  544.000000  544.000000  544.000000  544.000000  544.000000   \n",
       "unique       544         NaN         NaN         NaN         NaN         NaN   \n",
       "top     Khanbari         NaN         NaN         NaN         NaN         NaN   \n",
       "freq           1         NaN         NaN         NaN         NaN         NaN   \n",
       "mean         NaN   19.870162   19.394594   69.666158   70.126838   54.056985   \n",
       "std          NaN   32.854297   87.143829   13.205536   21.327243   40.024698   \n",
       "min          NaN  -54.800000 -175.200000   31.950000    9.000000    0.000000   \n",
       "25%          NaN   -7.971400  -53.668975   58.642500   59.000000   10.000000   \n",
       "50%          NaN   22.426100   21.744100   70.420000   75.000000   62.500000   \n",
       "75%          NaN   47.651825   93.975000   80.562500   87.000000   98.000000   \n",
       "max          NaN   78.218600  179.316700  108.070000  100.000000  100.000000   \n",
       "\n",
       "        Wind Speed Country          Date  \n",
       "count   544.000000     544  5.440000e+02  \n",
       "unique         NaN     113           NaN  \n",
       "top            NaN      RU           NaN  \n",
       "freq           NaN      65           NaN  \n",
       "mean      7.420607     NaN  1.628128e+09  \n",
       "std       5.451201     NaN  1.119166e+02  \n",
       "min       0.000000     NaN  1.628127e+09  \n",
       "25%       3.492500     NaN  1.628128e+09  \n",
       "50%       6.005000     NaN  1.628128e+09  \n",
       "75%       9.972500     NaN  1.628128e+09  \n",
       "max      34.180000     NaN  1.628128e+09  "
      ]
     },
     "execution_count": 9,
     "metadata": {},
     "output_type": "execute_result"
    }
   ],
   "source": [
    "summary_stats"
   ]
  },
  {
   "cell_type": "markdown",
   "metadata": {},
   "source": [
    "## Inspect the data and remove the cities where the humidity > 100%.\n",
    "----\n",
    "Skip this step if there are no cities that have humidity > 100%. "
   ]
  },
  {
   "cell_type": "code",
   "execution_count": 10,
   "metadata": {},
   "outputs": [
    {
     "name": "stdout",
     "output_type": "stream",
     "text": [
      "Summary statics shows that the maximum value for humidity is 100% for all cities\n"
     ]
    }
   ],
   "source": [
    "print(\"Summary statics shows that the maximum value for humidity is 100% for all cities\")"
   ]
  },
  {
   "cell_type": "code",
   "execution_count": 11,
   "metadata": {},
   "outputs": [],
   "source": [
    "#  Get the indices of cities that have humidity over 100%.\n"
   ]
  },
  {
   "cell_type": "code",
   "execution_count": 12,
   "metadata": {},
   "outputs": [],
   "source": [
    "# Make a new DataFrame equal to the city data to drop all humidity outliers by index.\n",
    "# Passing \"inplace=False\" will make a copy of the city_data DataFrame, which we call \"clean_city_data\".\n"
   ]
  },
  {
   "cell_type": "markdown",
   "metadata": {},
   "source": [
    "## Plotting the Data\n",
    "* Use proper labeling of the plots using plot titles (including date of analysis) and axes labels.\n",
    "* Save the plotted figures as .pngs."
   ]
  },
  {
   "cell_type": "markdown",
   "metadata": {},
   "source": [
    "## Latitude vs. Temperature Plot"
   ]
  },
  {
   "cell_type": "markdown",
   "metadata": {},
   "source": [
    "The plot shows the relationship between Latitude and Temperature.\n",
    "The plot shows that as the latitude increases, the temperature goes down, and the temperature is hotter near the equator.\n",
    "*Ignoring some of the outliers between the latitude range of 20-40"
   ]
  },
  {
   "cell_type": "code",
   "execution_count": 13,
   "metadata": {},
   "outputs": [
    {
     "data": {
      "image/png": "[encoded data removed]",
      "text/plain": [
       "<Figure size 432x288 with 1 Axes>"
      ]
     },
     "metadata": {
      "needs_background": "light"
     },
     "output_type": "display_data"
    }
   ],
   "source": [
    "#cordinates\n",
    "x_values = city_weather_df[\"Lat\"]\n",
    "y_values = city_weather_df[\"Max Temp\"]\n",
    "\n",
    "#plot\n",
    "plt.scatter(x_values, y_values, facecolor =\"Blue\", edgecolor =\"Black\")\n",
    "\n",
    "# Set title\n",
    "plt.title(\"City Latitude vs. Max Temperature (08/04/21)\")\n",
    "\n",
    "# Set x axis label\n",
    "plt.xlabel(\"Laitude\")\n",
    "\n",
    "# Set y axis label\n",
    "plt.ylabel(\"Max Temperature (F)\")\n",
    "\n",
    "# Set grid line\n",
    "plt.grid(linestyle='-', linewidth=1, alpha = 0.7)\n",
    "\n",
    "# Save the plotted figure as .pngs\n",
    "plt.savefig(\"../Images/City_Latitude_Max_Temperature_RC.png\")"
   ]
  },
  {
   "cell_type": "markdown",
   "metadata": {},
   "source": [
    "## Latitude vs. Humidity Plot"
   ]
  },
  {
   "cell_type": "code",
   "execution_count": 14,
   "metadata": {},
   "outputs": [
    {
     "data": {
      "image/png": "[encoded data removed]",
      "text/plain": [
       "<Figure size 432x288 with 1 Axes>"
      ]
     },
     "metadata": {
      "needs_background": "light"
     },
     "output_type": "display_data"
    }
   ],
   "source": [
    "#cordinates\n",
    "x_values = city_weather_df[\"Lat\"]\n",
    "y_values = city_weather_df[\"Humidity\"]\n",
    "\n",
    "#plot\n",
    "plt.scatter(x_values, y_values, facecolor =\"Blue\", edgecolor =\"Black\")\n",
    "\n",
    "# Set title\n",
    "plt.title(\"City Latitude vs. Humidity (08/04/21)\")\n",
    "\n",
    "\n",
    "# Set x axis label\n",
    "plt.xlabel(\"Laitude\")\n",
    "\n",
    "# Set y axis label\n",
    "plt.ylabel(\"Humidity (%)\")\n",
    "\n",
    "# Set grid line\n",
    "plt.grid(linestyle='-', linewidth=1, alpha = 0.7)\n",
    "\n",
    "# Save the plotted figure as .pngs\n",
    "plt.savefig(\"../Images/City_Latitude_Humidity_RC.png\")"
   ]
  },
  {
   "cell_type": "code",
   "execution_count": null,
   "metadata": {},
   "outputs": [],
   "source": []
  },
  {
   "cell_type": "markdown",
   "metadata": {},
   "source": [
    "## Latitude vs. Cloudiness Plot"
   ]
  },
  {
   "cell_type": "markdown",
   "metadata": {},
   "source": [
    "There is no clear correlation between latitude and cloudiness. Cloudiness is widely spread out.\n"
   ]
  },
  {
   "cell_type": "code",
   "execution_count": 15,
   "metadata": {},
   "outputs": [
    {
     "data": {
      "image/png": "[encoded data removed]",
      "text/plain": [
       "<Figure size 432x288 with 1 Axes>"
      ]
     },
     "metadata": {
      "needs_background": "light"
     },
     "output_type": "display_data"
    }
   ],
   "source": [
    "#cordinates\n",
    "x_values = city_weather_df[\"Lat\"]\n",
    "y_values = city_weather_df[\"Cloudiness\"]\n",
    "\n",
    "#plot\n",
    "plt.scatter(x_values, y_values, facecolor =\"Blue\", edgecolor =\"Black\")\n",
    "\n",
    "# Set title\n",
    "plt.title(\"City Latitude vs. Cloudiness (08/04/21)\")\n",
    "\n",
    "# Set x axis label\n",
    "plt.xlabel(\"Laitude\")\n",
    "\n",
    "# Set y axis label\n",
    "plt.ylabel(\"Cloudiness (%)\")\n",
    "\n",
    "# Set y axis limit\n",
    "plt.ylim(-5,105)\n",
    "\n",
    "# Set grid line\n",
    "plt.grid(linestyle='-', linewidth=1, alpha = 0.5)\n",
    "\n",
    "# Save the plotted figure as .pngs\n",
    "plt.savefig(\"../Images/City_Latitude_Cloudiness_RC.png\")"
   ]
  },
  {
   "cell_type": "markdown",
   "metadata": {},
   "source": [
    "## Latitude vs. Wind Speed Plot"
   ]
  },
  {
   "cell_type": "markdown",
   "metadata": {},
   "source": [
    "Most of the wind speed values are below 20 mph, with only a few values above that wind speed limit."
   ]
  },
  {
   "cell_type": "code",
   "execution_count": 16,
   "metadata": {},
   "outputs": [
    {
     "data": {
      "image/png": "[encoded data removed]",
      "text/plain": [
       "<Figure size 432x288 with 1 Axes>"
      ]
     },
     "metadata": {
      "needs_background": "light"
     },
     "output_type": "display_data"
    }
   ],
   "source": [
    "#cordinates\n",
    "x_values = city_weather_df[\"Lat\"]\n",
    "y_values = city_weather_df[\"Wind Speed\"]\n",
    "\n",
    "#plot\n",
    "plt.scatter(x_values, y_values, facecolor =\"Blue\", edgecolor =\"Black\")\n",
    "\n",
    "# Set title\n",
    "plt.title(\"City Latitude vs. Wind Speed (mph) (08/04/21)\")\n",
    "\n",
    "# Set x axis label\n",
    "plt.xlabel(\"Laitude\")\n",
    "\n",
    "# Set y axis label\n",
    "plt.ylabel(\"Wind Speed (%)\")\n",
    "\n",
    "# Set y axis limit\n",
    "plt.ylim(-2,50)\n",
    "\n",
    "# Set grid line\n",
    "plt.grid(linestyle='-', linewidth=1, alpha = 0.5)\n",
    "\n",
    "# Save the plotted figure as .pngs\n",
    "plt.savefig(\"../Images/City_Latitude_Wind Speed.png\")"
   ]
  },
  {
   "cell_type": "markdown",
   "metadata": {},
   "source": [
    "## Linear Regression"
   ]
  },
  {
   "cell_type": "code",
   "execution_count": 49,
   "metadata": {},
   "outputs": [],
   "source": [
    "# Northern and Southern Hemisphere DataFrames\n",
    "northern_hemisphere = city_weather_df.loc[city_weather_df[\"Lat\"] >= 0]\n",
    "southern_hemisphere = city_weather_df.loc[city_weather_df[\"Lat\"] < 0]\n"
   ]
  },
  {
   "cell_type": "code",
   "execution_count": 50,
   "metadata": {},
   "outputs": [],
   "source": [
    "# Define function for creating linear regression and scatter plot\n",
    "def linear_regression(x,y):\n",
    "    print(f\"The r-squared is : {round(st.pearsonr(x, y)[0],2)}\")\n",
    "    (slope, intercept, rvalue, pvalue, stderr) = linregress(x, y)\n",
    "    regress_values = x * slope + intercept\n",
    "    line_equation = \"y = \" + str(round(slope,2)) + \"x + \" + str(round(intercept,2))\n",
    "    plt.scatter(x, y)\n",
    "    plt.plot(x,regress_values,\"r-\")\n",
    "    return line_equation\n"
   ]
  },
  {
   "cell_type": "markdown",
   "metadata": {},
   "source": [
    "####  Northern Hemisphere - Max Temp vs. Latitude Linear Regression"
   ]
  },
  {
   "cell_type": "markdown",
   "metadata": {},
   "source": [
    "Strong negative correlation between latitude and max temperature for northern hemisphere"
   ]
  },
  {
   "cell_type": "code",
   "execution_count": 51,
   "metadata": {},
   "outputs": [
    {
     "name": "stdout",
     "output_type": "stream",
     "text": [
      "The r-squared is : -0.66\n"
     ]
    },
    {
     "data": {
      "image/png": "[encoded data removed]",
      "text/plain": [
       "<Figure size 432x288 with 1 Axes>"
      ]
     },
     "metadata": {
      "needs_background": "light"
     },
     "output_type": "display_data"
    }
   ],
   "source": [
    "x_values = northern_hemisphere[\"Lat\"]\n",
    "y_values = northern_hemisphere[\"Max Temp\"]\n",
    "\n",
    "# Call  linear_regression function\n",
    "equation = linear_regression(x_values,y_values)\n",
    "\n",
    "#Display Linear equation\n",
    "plt.annotate(equation,(0,40),fontsize=12,color=\"red\")\n",
    "\n",
    "# Set a title\n",
    "plt.title(\"Northern Hemisphere - Max Temp vs. Latitude Linear Regression\")\n",
    "\n",
    "# Set xlabel\n",
    "plt.xlabel(\"Latitude\")\n",
    "\n",
    "# Set ylabel\n",
    "plt.ylabel(\"Max Temp (F)\")\n",
    "\n",
    "# Save the figure\n",
    "plt.savefig(\"../Images/Northern Hemisphere - Max Temp vs. Latitude Linear Regression_RC.png\")"
   ]
  },
  {
   "cell_type": "markdown",
   "metadata": {},
   "source": [
    "####  Southern Hemisphere - Max Temp vs. Latitude Linear Regression"
   ]
  },
  {
   "cell_type": "code",
   "execution_count": 52,
   "metadata": {},
   "outputs": [
    {
     "name": "stdout",
     "output_type": "stream",
     "text": [
      "The r-squared is : 0.75\n"
     ]
    },
    {
     "data": {
      "image/png": "[encoded data removed]",
      "text/plain": [
       "<Figure size 432x288 with 1 Axes>"
      ]
     },
     "metadata": {
      "needs_background": "light"
     },
     "output_type": "display_data"
    }
   ],
   "source": [
    "x_values = southern_hemisphere[\"Lat\"]\n",
    "y_values = southern_hemisphere[\"Max Temp\"]\n",
    "\n",
    "# Call linear_regression function\n",
    "equation = linear_regression(x_values,y_values)\n",
    "\n",
    "#Display Linear equation\n",
    "plt.annotate(equation,(-50,40),fontsize=12,color=\"red\")\n",
    "\n",
    "# Set a title\n",
    "plt.title(\"Southern Hemisphere - Max Temp vs. Latitude Linear Regression\")\n",
    "\n",
    "# Set xlabel\n",
    "plt.xlabel(\"Latitude\")\n",
    "\n",
    "# Set ylabel\n",
    "plt.ylabel(\"Max Temp (F)\")\n",
    "\n",
    "# Save the figure\n",
    "plt.savefig(\"../Images/Southern Hemisphere - Max Temp vs. Latitude Linear Regression_RC.png\")"
   ]
  },
  {
   "cell_type": "markdown",
   "metadata": {},
   "source": [
    "####  Northern Hemisphere - Humidity (%) vs. Latitude Linear Regression"
   ]
  },
  {
   "cell_type": "code",
   "execution_count": 53,
   "metadata": {},
   "outputs": [
    {
     "name": "stdout",
     "output_type": "stream",
     "text": [
      "The r-squared is : -0.06\n"
     ]
    },
    {
     "data": {
      "image/png": "[encoded data removed]",
      "text/plain": [
       "<Figure size 432x288 with 1 Axes>"
      ]
     },
     "metadata": {
      "needs_background": "light"
     },
     "output_type": "display_data"
    }
   ],
   "source": [
    "x_values = northern_hemisphere[\"Lat\"]\n",
    "y_values = northern_hemisphere[\"Humidity\"]\n",
    "\n",
    "# Call  linear_regression function\n",
    "equation = linear_regression(x_values,y_values)\n",
    "\n",
    "#Display Linear equation\n",
    "plt.annotate(equation,(0,40),fontsize=12,color=\"red\")\n",
    "\n",
    "# Set a title\n",
    "plt.title(\"Northern Hemisphere - Humidity (%) vs. Latitude Linear Regression\")\n",
    "\n",
    "# Set xlabel\n",
    "plt.xlabel(\"Latitude\")\n",
    "\n",
    "# Set ylabel\n",
    "plt.ylabel(\"Humidity (%)\")\n",
    "\n",
    "# Save the figure\n",
    "plt.savefig(\"../Images/Northern Hemisphere - Humidity (%) vs. Latitude Linear Regression_RC.png\")"
   ]
  },
  {
   "cell_type": "markdown",
   "metadata": {},
   "source": [
    "####  Southern Hemisphere - Humidity (%) vs. Latitude Linear Regression"
   ]
  },
  {
   "cell_type": "code",
   "execution_count": 54,
   "metadata": {},
   "outputs": [
    {
     "name": "stdout",
     "output_type": "stream",
     "text": [
      "The r-squared is : 0.06\n"
     ]
    },
    {
     "data": {
      "image/png": "[encoded data removed]",
      "text/plain": [
       "<Figure size 432x288 with 1 Axes>"
      ]
     },
     "metadata": {
      "needs_background": "light"
     },
     "output_type": "display_data"
    }
   ],
   "source": [
    "x_values = southern_hemisphere[\"Lat\"]\n",
    "y_values = southern_hemisphere[\"Humidity\"]\n",
    "\n",
    "# Call  linear_regression function\n",
    "equation = linear_regression(x_values,y_values)\n",
    "\n",
    "#Display Linear equation\n",
    "plt.annotate(equation,(-50,50),fontsize=12,color=\"red\")\n",
    "\n",
    "# Set title\n",
    "plt.title(\"Southern Hemisphere - Humidity (%) vs. Latitude Linear Regression\")\n",
    "\n",
    "# Set xlabel\n",
    "plt.xlabel(\"Latitude\")\n",
    "\n",
    "# Set ylabel\n",
    "plt.ylabel(\"Humidity (%)\")\n",
    "\n",
    "# Save the figure\n",
    "plt.savefig(\"../Images/Southern Hemisphere - Humidity (%) vs. Latitude Linear Regression_RC.png\")"
   ]
  },
  {
   "cell_type": "markdown",
   "metadata": {},
   "source": [
    "####  Northern Hemisphere - Cloudiness (%) vs. Latitude Linear Regression"
   ]
  },
  {
   "cell_type": "code",
   "execution_count": 55,
   "metadata": {},
   "outputs": [
    {
     "name": "stdout",
     "output_type": "stream",
     "text": [
      "The r-squared is : -0.03\n"
     ]
    },
    {
     "data": {
      "image/png": "[encoded data removed]",
      "text/plain": [
       "<Figure size 432x288 with 1 Axes>"
      ]
     },
     "metadata": {
      "needs_background": "light"
     },
     "output_type": "display_data"
    }
   ],
   "source": [
    "x_values = northern_hemisphere[\"Lat\"]\n",
    "y_values = northern_hemisphere[\"Cloudiness\"]\n",
    "\n",
    "# Call  linear_regression function\n",
    "equation = linear_regression(x_values,y_values)\n",
    "\n",
    "#Display Linear equation\n",
    "plt.annotate(equation,(0,45),fontsize=12,color=\"red\")\n",
    "\n",
    "# Set a title\n",
    "plt.title(\"Northern Hemisphere - Cloudiness (%) vs. Latitude Linear Regression\")\n",
    "\n",
    "# Set xlabel\n",
    "plt.xlabel(\"Latitude\")\n",
    "\n",
    "# Set ylabel\n",
    "plt.ylabel(\"Cloudiness (%)\")\n",
    "\n",
    "# Save the figure\n",
    "plt.savefig(\"../Images/Northern Hemisphere - Cloudiness (%) vs. Latitude Linear Regression_RC.png\")"
   ]
  },
  {
   "cell_type": "markdown",
   "metadata": {},
   "source": [
    "####  Southern Hemisphere - Cloudiness (%) vs. Latitude Linear Regression"
   ]
  },
  {
   "cell_type": "code",
   "execution_count": 56,
   "metadata": {},
   "outputs": [
    {
     "name": "stdout",
     "output_type": "stream",
     "text": [
      "The r-squared is : -0.06\n"
     ]
    },
    {
     "data": {
      "image/png": "[encoded data removed]",
      "text/plain": [
       "<Figure size 432x288 with 1 Axes>"
      ]
     },
     "metadata": {
      "needs_background": "light"
     },
     "output_type": "display_data"
    }
   ],
   "source": [
    "x_values = southern_hemisphere[\"Lat\"]\n",
    "y_values = southern_hemisphere[\"Cloudiness\"]\n",
    "\n",
    "# Call  linear_regression function\n",
    "equation = linear_regression(x_values,y_values)\n",
    "\n",
    "#Display Linear equation\n",
    "plt.annotate(equation,(-50,60),fontsize=12,color=\"red\")\n",
    "\n",
    "# Set a title\n",
    "plt.title(\"Southern Hemisphere - Cloudiness (%) vs. Latitude Linear Regression\")\n",
    "\n",
    "# Set xlabel\n",
    "plt.xlabel(\"Latitude\")\n",
    "\n",
    "# Set ylabel\n",
    "plt.ylabel(\"Cloudiness (%)\")\n",
    "\n",
    "# Save the figure\n",
    "plt.savefig(\"../Images/Southern Hemisphere - Cloudiness (%) vs. Latitude Linear Regression_RC.png\")"
   ]
  },
  {
   "cell_type": "markdown",
   "metadata": {},
   "source": [
    "####  Northern Hemisphere - Wind Speed (mph) vs. Latitude Linear Regression"
   ]
  },
  {
   "cell_type": "code",
   "execution_count": 57,
   "metadata": {},
   "outputs": [
    {
     "name": "stdout",
     "output_type": "stream",
     "text": [
      "The r-squared is : 0.0\n"
     ]
    },
    {
     "data": {
      "image/png": "[encoded data removed]",
      "text/plain": [
       "<Figure size 432x288 with 1 Axes>"
      ]
     },
     "metadata": {
      "needs_background": "light"
     },
     "output_type": "display_data"
    }
   ],
   "source": [
    "x_values = northern_hemisphere[\"Lat\"]\n",
    "y_values = northern_hemisphere[\"Wind Speed\"]\n",
    "\n",
    "# Call  linear_regression function\n",
    "equation = linear_regression(x_values,y_values)\n",
    "\n",
    "#Display Linear equation\n",
    "plt.annotate(equation,(0,30),fontsize=12,color=\"red\")\n",
    "\n",
    "# Set  title\n",
    "plt.title(\"Northern Hemisphere - Wind Speed (mph) vs. Latitude Linear Regression\")\n",
    "\n",
    "# Set xlabel\n",
    "plt.xlabel(\"Latitude\")\n",
    "\n",
    "# Set ylabel\n",
    "plt.ylabel(\"Wind Speed (mph)\")\n",
    "\n",
    "# Save the figure\n",
    "plt.savefig(\"../Images/Northern Hemisphere - Wind Speed vs. Latitude Linear Regression_RC.png\")"
   ]
  },
  {
   "cell_type": "markdown",
   "metadata": {},
   "source": [
    "####  Southern Hemisphere - Wind Speed (mph) vs. Latitude Linear Regression"
   ]
  },
  {
   "cell_type": "code",
   "execution_count": 58,
   "metadata": {},
   "outputs": [
    {
     "name": "stdout",
     "output_type": "stream",
     "text": [
      "The r-squared is : -0.15\n"
     ]
    },
    {
     "data": {
      "image/png": "[encoded data removed]",
      "text/plain": [
       "<Figure size 432x288 with 1 Axes>"
      ]
     },
     "metadata": {
      "needs_background": "light"
     },
     "output_type": "display_data"
    }
   ],
   "source": [
    "x_values = southern_hemisphere[\"Lat\"]\n",
    "y_values = southern_hemisphere[\"Wind Speed\"]\n",
    "\n",
    "# Call  linear_regression function\n",
    "equation = linear_regression(x_values,y_values)\n",
    "\n",
    "#Display Linear equation\n",
    "plt.annotate(equation,(-50,20),fontsize=12,color=\"red\")\n",
    "\n",
    "# Set  title\n",
    "plt.title(\"Southern Hemisphere - Wind Speed (mph) vs. Latitude Linear Regression\")\n",
    "\n",
    "# Set xlabel\n",
    "plt.xlabel(\"Latitude\")\n",
    "\n",
    "# Set ylabel\n",
    "plt.ylabel(\"Wind Speed (mph)\")\n",
    "\n",
    "# Save the figure\n",
    "plt.savefig(\"../Images/Southern Hemisphere - Wind Speed vs. Latitude Linear Regression_RC.png\")"
   ]
  },
  {
   "cell_type": "code",
   "execution_count": null,
   "metadata": {},
   "outputs": [],
   "source": []
  }
 ],
 "metadata": {
  "anaconda-cloud": {},
  "kernel_info": {
   "name": "python3"
  },
  "kernelspec": {
   "display_name": "Python 3",
   "language": "python",
   "name": "python3"
  },
  "language_info": {
   "codemirror_mode": {
    "name": "ipython",
    "version": 3
   },
   "file_extension": ".py",
   "mimetype": "text/x-python",
   "name": "python",
   "nbconvert_exporter": "python",
   "pygments_lexer": "ipython3",
   "version": "3.8.8"
  },
  "latex_envs": {
   "LaTeX_envs_menu_present": true,
   "autoclose": false,
   "autocomplete": true,
   "bibliofile": "biblio.bib",
   "cite_by": "apalike",
   "current_citInitial": 1,
   "eqLabelWithNumbers": true,
   "eqNumInitial": 1,
   "hotkeys": {
    "equation": "Ctrl-E",
    "itemize": "Ctrl-I"
   },
   "labels_anchors": false,
   "latex_user_defs": false,
   "report_style_numbering": false,
   "user_envs_cfg": false
  },
  "nteract": {
   "version": "0.12.3"
  }
 },
 "nbformat": 4,
 "nbformat_minor": 2
}
